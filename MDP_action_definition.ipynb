{
  "nbformat": 4,
  "nbformat_minor": 0,
  "metadata": {
    "colab": {
      "provenance": [],
      "authorship_tag": "ABX9TyOxzYwuC9Hl0wdFWy+4A9FX",
      "include_colab_link": true
    },
    "kernelspec": {
      "name": "python3",
      "display_name": "Python 3"
    },
    "language_info": {
      "name": "python"
    }
  },
  "cells": [
    {
      "cell_type": "markdown",
      "metadata": {
        "id": "view-in-github",
        "colab_type": "text"
      },
      "source": [
        "<a href=\"https://colab.research.google.com/github/mariaberardi/Molecular-Generation/blob/main/MDP_action_definition.ipynb\" target=\"_parent\"><img src=\"https://colab.research.google.com/assets/colab-badge.svg\" alt=\"Open In Colab\"/></a>"
      ]
    },
    {
      "cell_type": "markdown",
      "source": [
        "# Encoding Chemical Reactions using RDKit"
      ],
      "metadata": {
        "id": "GG7dDLnH2LmK"
      }
    },
    {
      "cell_type": "markdown",
      "source": [
        "We are interested in studying methods to encode chemical reactions. Here we focus on two guiding questions:\n",
        "\n",
        "1. Many encodings rely on an order of atoms in a compound. This naturally leads to the questions of how to choose an indexing when multiple initial atoms are possible. \n",
        "\n",
        "2. The MolDQN algorithm uses three types of actions in the MDP: add an atom, add a bond, remove an atom. A central question is how to test for chemical validy of a compound after adding or removing an atom or after adding a bond.\n",
        "\n",
        "After loading the necessary libraries, we address both questions. "
      ],
      "metadata": {
        "id": "qeWD-YInphlJ"
      }
    },
    {
      "cell_type": "code",
      "execution_count": 1,
      "metadata": {
        "colab": {
          "base_uri": "https://localhost:8080/"
        },
        "id": "9ylUmqjCpPzQ",
        "outputId": "cc9e1599-e792-426d-907a-a5ea0fab6b1c"
      },
      "outputs": [
        {
          "output_type": "stream",
          "name": "stdout",
          "text": [
            "Looking in indexes: https://pypi.org/simple, https://us-python.pkg.dev/colab-wheels/public/simple/\n",
            "Collecting rdkit\n",
            "  Downloading rdkit-2022.9.1-cp37-cp37m-manylinux_2_17_x86_64.manylinux2014_x86_64.whl (29.5 MB)\n",
            "\u001b[K     |████████████████████████████████| 29.5 MB 1.7 MB/s \n",
            "\u001b[?25hRequirement already satisfied: numpy in /usr/local/lib/python3.7/dist-packages (from rdkit) (1.21.6)\n",
            "Requirement already satisfied: Pillow in /usr/local/lib/python3.7/dist-packages (from rdkit) (7.1.2)\n",
            "Installing collected packages: rdkit\n",
            "Successfully installed rdkit-2022.9.1\n"
          ]
        }
      ],
      "source": [
        "!pip install rdkit"
      ]
    },
    {
      "cell_type": "code",
      "source": [
        "from rdkit import Chem\n",
        "from rdkit.Chem import Draw\n",
        "\n",
        "from rdkit.Chem import RDKFingerprint\n",
        "from rdkit.Chem import rdMolDescriptors\n",
        "\n",
        "import numpy as np\n",
        "\n",
        "import networkx as nx #to represent molecules as graphs\n",
        "import matplotlib.pyplot as plt"
      ],
      "metadata": {
        "id": "jKfCgpZhpfg-"
      },
      "execution_count": 2,
      "outputs": []
    },
    {
      "cell_type": "code",
      "source": [
        "from rdkit.Chem.Draw import IPythonConsole\n",
        "IPythonConsole.ipython_useSVG=True  # set this to False if you want PNGs instead of SVGs\n",
        "IPythonConsole.drawOptions.addAtomIndices = False\n",
        "from rdkit.Chem import SanitizeMol\n",
        "from rdkit.Chem import GetMolFrags"
      ],
      "metadata": {
        "id": "Wmzu6e0t0RXh"
      },
      "execution_count": 39,
      "outputs": []
    },
    {
      "cell_type": "markdown",
      "source": [
        "## Choosing an Ordering of Atoms"
      ],
      "metadata": {
        "id": "MfxQov4B5QYX"
      }
    },
    {
      "cell_type": "markdown",
      "source": [
        "Let's consider two molecules as examples. We first use the standard graph, with unlabeled indexes. "
      ],
      "metadata": {
        "id": "xo805XQ99uga"
      }
    },
    {
      "cell_type": "code",
      "source": [
        "# mol1 does not contain a ring\n",
        "ethanol_smiles = 'CCO'\n",
        "mol1 = Chem.MolFromSmiles(ethanol_smiles)\n",
        "mol1"
      ],
      "metadata": {
        "colab": {
          "base_uri": "https://localhost:8080/",
          "height": 321
        },
        "id": "iGs0yPs6qQki",
        "outputId": "03e27044-f7a0-4047-f411-d4b31b0652e9"
      },
      "execution_count": 22,
      "outputs": [
        {
          "output_type": "execute_result",
          "data": {
            "text/plain": [
              "<rdkit.Chem.rdchem.Mol at 0x7f24b7b243f0>"
            ],
            "text/html": [
              "<?xml version='1.0' encoding='iso-8859-1'?>\n",
              "<svg version='1.1' baseProfile='full'\n",
              "              xmlns='http://www.w3.org/2000/svg'\n",
              "                      xmlns:rdkit='http://www.rdkit.org/xml'\n",
              "                      xmlns:xlink='http://www.w3.org/1999/xlink'\n",
              "                  xml:space='preserve'\n",
              "width='300px' height='300px' viewBox='0 0 300 300'>\n",
              "<!-- END OF HEADER -->\n",
              "<rect style='opacity:1.0;fill:#FFFFFF;stroke:none' width='300.0' height='300.0' x='0.0' y='0.0'> </rect>\n",
              "<path class='bond-0 atom-0 atom-1' d='M 19.2,174.7 L 130.2,110.6' style='fill:none;fill-rule:evenodd;stroke:#000000;stroke-width:2.0px;stroke-linecap:butt;stroke-linejoin:miter;stroke-opacity:1' />\n",
              "<path class='bond-1 atom-1 atom-2' d='M 130.2,110.6 L 177.1,137.6' style='fill:none;fill-rule:evenodd;stroke:#000000;stroke-width:2.0px;stroke-linecap:butt;stroke-linejoin:miter;stroke-opacity:1' />\n",
              "<path class='bond-1 atom-1 atom-2' d='M 177.1,137.6 L 224.0,164.7' style='fill:none;fill-rule:evenodd;stroke:#FF0000;stroke-width:2.0px;stroke-linecap:butt;stroke-linejoin:miter;stroke-opacity:1' />\n",
              "<path d='M 124.7,113.8 L 130.2,110.6 L 132.6,111.9' style='fill:none;stroke:#000000;stroke-width:2.0px;stroke-linecap:butt;stroke-linejoin:miter;stroke-opacity:1;' />\n",
              "<path class='atom-2' d='M 228.2 174.7\n",
              "Q 228.2 167.9, 231.6 164.1\n",
              "Q 234.9 160.3, 241.2 160.3\n",
              "Q 247.5 160.3, 250.9 164.1\n",
              "Q 254.2 167.9, 254.2 174.7\n",
              "Q 254.2 181.6, 250.8 185.5\n",
              "Q 247.4 189.4, 241.2 189.4\n",
              "Q 235.0 189.4, 231.6 185.5\n",
              "Q 228.2 181.7, 228.2 174.7\n",
              "M 241.2 186.2\n",
              "Q 245.5 186.2, 247.9 183.3\n",
              "Q 250.2 180.4, 250.2 174.7\n",
              "Q 250.2 169.2, 247.9 166.4\n",
              "Q 245.5 163.5, 241.2 163.5\n",
              "Q 236.9 163.5, 234.5 166.3\n",
              "Q 232.2 169.1, 232.2 174.7\n",
              "Q 232.2 180.5, 234.5 183.3\n",
              "Q 236.9 186.2, 241.2 186.2\n",
              "' fill='#FF0000'/>\n",
              "<path class='atom-2' d='M 258.6 160.7\n",
              "L 262.5 160.7\n",
              "L 262.5 172.7\n",
              "L 276.9 172.7\n",
              "L 276.9 160.7\n",
              "L 280.8 160.7\n",
              "L 280.8 189.0\n",
              "L 276.9 189.0\n",
              "L 276.9 175.9\n",
              "L 262.5 175.9\n",
              "L 262.5 189.0\n",
              "L 258.6 189.0\n",
              "L 258.6 160.7\n",
              "' fill='#FF0000'/>\n",
              "</svg>\n"
            ],
            "image/svg+xml": "<?xml version='1.0' encoding='iso-8859-1'?>\n<svg version='1.1' baseProfile='full'\n              xmlns='http://www.w3.org/2000/svg'\n                      xmlns:rdkit='http://www.rdkit.org/xml'\n                      xmlns:xlink='http://www.w3.org/1999/xlink'\n                  xml:space='preserve'\nwidth='300px' height='300px' viewBox='0 0 300 300'>\n<!-- END OF HEADER -->\n<rect style='opacity:1.0;fill:#FFFFFF;stroke:none' width='300.0' height='300.0' x='0.0' y='0.0'> </rect>\n<path class='bond-0 atom-0 atom-1' d='M 19.2,174.7 L 130.2,110.6' style='fill:none;fill-rule:evenodd;stroke:#000000;stroke-width:2.0px;stroke-linecap:butt;stroke-linejoin:miter;stroke-opacity:1' />\n<path class='bond-1 atom-1 atom-2' d='M 130.2,110.6 L 177.1,137.6' style='fill:none;fill-rule:evenodd;stroke:#000000;stroke-width:2.0px;stroke-linecap:butt;stroke-linejoin:miter;stroke-opacity:1' />\n<path class='bond-1 atom-1 atom-2' d='M 177.1,137.6 L 224.0,164.7' style='fill:none;fill-rule:evenodd;stroke:#FF0000;stroke-width:2.0px;stroke-linecap:butt;stroke-linejoin:miter;stroke-opacity:1' />\n<path d='M 124.7,113.8 L 130.2,110.6 L 132.6,111.9' style='fill:none;stroke:#000000;stroke-width:2.0px;stroke-linecap:butt;stroke-linejoin:miter;stroke-opacity:1;' />\n<path class='atom-2' d='M 228.2 174.7\nQ 228.2 167.9, 231.6 164.1\nQ 234.9 160.3, 241.2 160.3\nQ 247.5 160.3, 250.9 164.1\nQ 254.2 167.9, 254.2 174.7\nQ 254.2 181.6, 250.8 185.5\nQ 247.4 189.4, 241.2 189.4\nQ 235.0 189.4, 231.6 185.5\nQ 228.2 181.7, 228.2 174.7\nM 241.2 186.2\nQ 245.5 186.2, 247.9 183.3\nQ 250.2 180.4, 250.2 174.7\nQ 250.2 169.2, 247.9 166.4\nQ 245.5 163.5, 241.2 163.5\nQ 236.9 163.5, 234.5 166.3\nQ 232.2 169.1, 232.2 174.7\nQ 232.2 180.5, 234.5 183.3\nQ 236.9 186.2, 241.2 186.2\n' fill='#FF0000'/>\n<path class='atom-2' d='M 258.6 160.7\nL 262.5 160.7\nL 262.5 172.7\nL 276.9 172.7\nL 276.9 160.7\nL 280.8 160.7\nL 280.8 189.0\nL 276.9 189.0\nL 276.9 175.9\nL 262.5 175.9\nL 262.5 189.0\nL 258.6 189.0\nL 258.6 160.7\n' fill='#FF0000'/>\n</svg>\n",
            "image/png": "[encoded data removed]"
          },
          "metadata": {},
          "execution_count": 22
        }
      ]
    },
    {
      "cell_type": "code",
      "source": [
        "# mol2 contains a ring\n",
        "toluene_smiles = 'CC1=CC=CC=C1'\n",
        "mol2 = Chem.MolFromSmiles(toluene_smiles)\n",
        "mol2"
      ],
      "metadata": {
        "colab": {
          "base_uri": "https://localhost:8080/",
          "height": 321
        },
        "id": "4zN8ROCV_p1K",
        "outputId": "8c510430-18da-46c6-f377-8f88ad6ae6e5"
      },
      "execution_count": 23,
      "outputs": [
        {
          "output_type": "execute_result",
          "data": {
            "text/plain": [
              "<rdkit.Chem.rdchem.Mol at 0x7f24b7b24850>"
            ],
            "text/html": [
              "<?xml version='1.0' encoding='iso-8859-1'?>\n",
              "<svg version='1.1' baseProfile='full'\n",
              "              xmlns='http://www.w3.org/2000/svg'\n",
              "                      xmlns:rdkit='http://www.rdkit.org/xml'\n",
              "                      xmlns:xlink='http://www.w3.org/1999/xlink'\n",
              "                  xml:space='preserve'\n",
              "width='300px' height='300px' viewBox='0 0 300 300'>\n",
              "<!-- END OF HEADER -->\n",
              "<rect style='opacity:1.0;fill:#FFFFFF;stroke:none' width='300.0' height='300.0' x='0.0' y='0.0'> </rect>\n",
              "<path class='bond-0 atom-0 atom-1' d='M 286.4,150.0 L 195.5,150.0' style='fill:none;fill-rule:evenodd;stroke:#000000;stroke-width:2.0px;stroke-linecap:butt;stroke-linejoin:miter;stroke-opacity:1' />\n",
              "<path class='bond-1 atom-1 atom-2' d='M 195.5,150.0 L 150.0,228.7' style='fill:none;fill-rule:evenodd;stroke:#000000;stroke-width:2.0px;stroke-linecap:butt;stroke-linejoin:miter;stroke-opacity:1' />\n",
              "<path class='bond-1 atom-1 atom-2' d='M 179.7,150.0 L 142.1,215.1' style='fill:none;fill-rule:evenodd;stroke:#000000;stroke-width:2.0px;stroke-linecap:butt;stroke-linejoin:miter;stroke-opacity:1' />\n",
              "<path class='bond-2 atom-2 atom-3' d='M 150.0,228.7 L 59.1,228.7' style='fill:none;fill-rule:evenodd;stroke:#000000;stroke-width:2.0px;stroke-linecap:butt;stroke-linejoin:miter;stroke-opacity:1' />\n",
              "<path class='bond-3 atom-3 atom-4' d='M 59.1,228.7 L 13.6,150.0' style='fill:none;fill-rule:evenodd;stroke:#000000;stroke-width:2.0px;stroke-linecap:butt;stroke-linejoin:miter;stroke-opacity:1' />\n",
              "<path class='bond-3 atom-3 atom-4' d='M 67.0,215.1 L 29.4,150.0' style='fill:none;fill-rule:evenodd;stroke:#000000;stroke-width:2.0px;stroke-linecap:butt;stroke-linejoin:miter;stroke-opacity:1' />\n",
              "<path class='bond-4 atom-4 atom-5' d='M 13.6,150.0 L 59.1,71.3' style='fill:none;fill-rule:evenodd;stroke:#000000;stroke-width:2.0px;stroke-linecap:butt;stroke-linejoin:miter;stroke-opacity:1' />\n",
              "<path class='bond-5 atom-5 atom-6' d='M 59.1,71.3 L 150.0,71.3' style='fill:none;fill-rule:evenodd;stroke:#000000;stroke-width:2.0px;stroke-linecap:butt;stroke-linejoin:miter;stroke-opacity:1' />\n",
              "<path class='bond-5 atom-5 atom-6' d='M 67.0,84.9 L 142.1,84.9' style='fill:none;fill-rule:evenodd;stroke:#000000;stroke-width:2.0px;stroke-linecap:butt;stroke-linejoin:miter;stroke-opacity:1' />\n",
              "<path class='bond-6 atom-6 atom-1' d='M 150.0,71.3 L 195.5,150.0' style='fill:none;fill-rule:evenodd;stroke:#000000;stroke-width:2.0px;stroke-linecap:butt;stroke-linejoin:miter;stroke-opacity:1' />\n",
              "<path d='M 152.3,224.8 L 150.0,228.7 L 145.5,228.7' style='fill:none;stroke:#000000;stroke-width:2.0px;stroke-linecap:butt;stroke-linejoin:miter;stroke-opacity:1;' />\n",
              "<path d='M 63.6,228.7 L 59.1,228.7 L 56.8,224.8' style='fill:none;stroke:#000000;stroke-width:2.0px;stroke-linecap:butt;stroke-linejoin:miter;stroke-opacity:1;' />\n",
              "<path d='M 15.9,153.9 L 13.6,150.0 L 15.9,146.1' style='fill:none;stroke:#000000;stroke-width:2.0px;stroke-linecap:butt;stroke-linejoin:miter;stroke-opacity:1;' />\n",
              "<path d='M 56.8,75.2 L 59.1,71.3 L 63.6,71.3' style='fill:none;stroke:#000000;stroke-width:2.0px;stroke-linecap:butt;stroke-linejoin:miter;stroke-opacity:1;' />\n",
              "<path d='M 145.5,71.3 L 150.0,71.3 L 152.3,75.2' style='fill:none;stroke:#000000;stroke-width:2.0px;stroke-linecap:butt;stroke-linejoin:miter;stroke-opacity:1;' />\n",
              "</svg>\n"
            ],
            "image/svg+xml": "<?xml version='1.0' encoding='iso-8859-1'?>\n<svg version='1.1' baseProfile='full'\n              xmlns='http://www.w3.org/2000/svg'\n                      xmlns:rdkit='http://www.rdkit.org/xml'\n                      xmlns:xlink='http://www.w3.org/1999/xlink'\n                  xml:space='preserve'\nwidth='300px' height='300px' viewBox='0 0 300 300'>\n<!-- END OF HEADER -->\n<rect style='opacity:1.0;fill:#FFFFFF;stroke:none' width='300.0' height='300.0' x='0.0' y='0.0'> </rect>\n<path class='bond-0 atom-0 atom-1' d='M 286.4,150.0 L 195.5,150.0' style='fill:none;fill-rule:evenodd;stroke:#000000;stroke-width:2.0px;stroke-linecap:butt;stroke-linejoin:miter;stroke-opacity:1' />\n<path class='bond-1 atom-1 atom-2' d='M 195.5,150.0 L 150.0,228.7' style='fill:none;fill-rule:evenodd;stroke:#000000;stroke-width:2.0px;stroke-linecap:butt;stroke-linejoin:miter;stroke-opacity:1' />\n<path class='bond-1 atom-1 atom-2' d='M 179.7,150.0 L 142.1,215.1' style='fill:none;fill-rule:evenodd;stroke:#000000;stroke-width:2.0px;stroke-linecap:butt;stroke-linejoin:miter;stroke-opacity:1' />\n<path class='bond-2 atom-2 atom-3' d='M 150.0,228.7 L 59.1,228.7' style='fill:none;fill-rule:evenodd;stroke:#000000;stroke-width:2.0px;stroke-linecap:butt;stroke-linejoin:miter;stroke-opacity:1' />\n<path class='bond-3 atom-3 atom-4' d='M 59.1,228.7 L 13.6,150.0' style='fill:none;fill-rule:evenodd;stroke:#000000;stroke-width:2.0px;stroke-linecap:butt;stroke-linejoin:miter;stroke-opacity:1' />\n<path class='bond-3 atom-3 atom-4' d='M 67.0,215.1 L 29.4,150.0' style='fill:none;fill-rule:evenodd;stroke:#000000;stroke-width:2.0px;stroke-linecap:butt;stroke-linejoin:miter;stroke-opacity:1' />\n<path class='bond-4 atom-4 atom-5' d='M 13.6,150.0 L 59.1,71.3' style='fill:none;fill-rule:evenodd;stroke:#000000;stroke-width:2.0px;stroke-linecap:butt;stroke-linejoin:miter;stroke-opacity:1' />\n<path class='bond-5 atom-5 atom-6' d='M 59.1,71.3 L 150.0,71.3' style='fill:none;fill-rule:evenodd;stroke:#000000;stroke-width:2.0px;stroke-linecap:butt;stroke-linejoin:miter;stroke-opacity:1' />\n<path class='bond-5 atom-5 atom-6' d='M 67.0,84.9 L 142.1,84.9' style='fill:none;fill-rule:evenodd;stroke:#000000;stroke-width:2.0px;stroke-linecap:butt;stroke-linejoin:miter;stroke-opacity:1' />\n<path class='bond-6 atom-6 atom-1' d='M 150.0,71.3 L 195.5,150.0' style='fill:none;fill-rule:evenodd;stroke:#000000;stroke-width:2.0px;stroke-linecap:butt;stroke-linejoin:miter;stroke-opacity:1' />\n<path d='M 152.3,224.8 L 150.0,228.7 L 145.5,228.7' style='fill:none;stroke:#000000;stroke-width:2.0px;stroke-linecap:butt;stroke-linejoin:miter;stroke-opacity:1;' />\n<path d='M 63.6,228.7 L 59.1,228.7 L 56.8,224.8' style='fill:none;stroke:#000000;stroke-width:2.0px;stroke-linecap:butt;stroke-linejoin:miter;stroke-opacity:1;' />\n<path d='M 15.9,153.9 L 13.6,150.0 L 15.9,146.1' style='fill:none;stroke:#000000;stroke-width:2.0px;stroke-linecap:butt;stroke-linejoin:miter;stroke-opacity:1;' />\n<path d='M 56.8,75.2 L 59.1,71.3 L 63.6,71.3' style='fill:none;stroke:#000000;stroke-width:2.0px;stroke-linecap:butt;stroke-linejoin:miter;stroke-opacity:1;' />\n<path d='M 145.5,71.3 L 150.0,71.3 L 152.3,75.2' style='fill:none;stroke:#000000;stroke-width:2.0px;stroke-linecap:butt;stroke-linejoin:miter;stroke-opacity:1;' />\n</svg>\n",
            "image/png": "[encoded data removed]"
          },
          "metadata": {},
          "execution_count": 23
        }
      ]
    },
    {
      "cell_type": "markdown",
      "source": [
        "We present two methods to obtain numberings for atoms in molecules. These give the same numberings, displayed in different ways. We first perform them, then given some details on the choice of orderings done behind the scenes. "
      ],
      "metadata": {
        "id": "4QrhFA7DAFQ1"
      }
    },
    {
      "cell_type": "code",
      "source": [
        "# define a function to assign an index to each atom\n",
        "# uses the GetAtoms() and SetAtomMapNum() functions built into RDKit\n",
        "\n",
        "def mol_with_atom_index(mol):\n",
        "    for atom in mol.GetAtoms():\n",
        "        atom.SetAtomMapNum(atom.GetIdx())\n",
        "    return mol"
      ],
      "metadata": {
        "id": "2TLVdDb-uehu"
      },
      "execution_count": 24,
      "outputs": []
    },
    {
      "cell_type": "code",
      "source": [
        "# display mol with atom indexes\n",
        "mol_with_atom_index(mol1)"
      ],
      "metadata": {
        "colab": {
          "base_uri": "https://localhost:8080/",
          "height": 321
        },
        "id": "bPkBDpPMu5vT",
        "outputId": "31ef01c7-cf6e-4d48-8c6a-c347568c7df9"
      },
      "execution_count": 25,
      "outputs": [
        {
          "output_type": "execute_result",
          "data": {
            "text/plain": [
              "<rdkit.Chem.rdchem.Mol at 0x7f24b7b243f0>"
            ],
            "text/html": [
              "<?xml version='1.0' encoding='iso-8859-1'?>\n",
              "<svg version='1.1' baseProfile='full'\n",
              "              xmlns='http://www.w3.org/2000/svg'\n",
              "                      xmlns:rdkit='http://www.rdkit.org/xml'\n",
              "                      xmlns:xlink='http://www.w3.org/1999/xlink'\n",
              "                  xml:space='preserve'\n",
              "width='300px' height='300px' viewBox='0 0 300 300'>\n",
              "<!-- END OF HEADER -->\n",
              "<rect style='opacity:1.0;fill:#FFFFFF;stroke:none' width='300.0' height='300.0' x='0.0' y='0.0'> </rect>\n",
              "<path class='bond-0 atom-0 atom-1' d='M 17.8,175.5 L 85.6,136.4' style='fill:none;fill-rule:evenodd;stroke:#000000;stroke-width:2.0px;stroke-linecap:butt;stroke-linejoin:miter;stroke-opacity:1' />\n",
              "<path class='bond-1 atom-1 atom-2' d='M 143.4,136.4 L 169.0,151.1' style='fill:none;fill-rule:evenodd;stroke:#000000;stroke-width:2.0px;stroke-linecap:butt;stroke-linejoin:miter;stroke-opacity:1' />\n",
              "<path class='bond-1 atom-1 atom-2' d='M 169.0,151.1 L 194.5,165.9' style='fill:none;fill-rule:evenodd;stroke:#FF0000;stroke-width:2.0px;stroke-linecap:butt;stroke-linejoin:miter;stroke-opacity:1' />\n",
              "<path class='atom-1' d='M 89.3 119.8\n",
              "Q 89.3 112.8, 92.6 109.1\n",
              "Q 95.9 105.4, 102.2 105.4\n",
              "Q 108.0 105.4, 111.2 109.5\n",
              "L 108.5 111.7\n",
              "Q 106.2 108.7, 102.2 108.7\n",
              "Q 97.9 108.7, 95.6 111.5\n",
              "Q 93.4 114.4, 93.4 119.8\n",
              "Q 93.4 125.4, 95.7 128.3\n",
              "Q 98.1 131.2, 102.6 131.2\n",
              "Q 105.8 131.2, 109.4 129.3\n",
              "L 110.5 132.3\n",
              "Q 109.0 133.3, 106.8 133.8\n",
              "Q 104.6 134.4, 102.1 134.4\n",
              "Q 95.9 134.4, 92.6 130.6\n",
              "Q 89.3 126.9, 89.3 119.8\n",
              "' fill='#000000'/>\n",
              "<path class='atom-1' d='M 114.2 129.3\n",
              "L 118.2 129.3\n",
              "L 118.2 133.3\n",
              "L 114.2 133.3\n",
              "L 114.2 129.3\n",
              "M 114.2 115.6\n",
              "L 118.2 115.6\n",
              "L 118.2 119.6\n",
              "L 114.2 119.6\n",
              "L 114.2 115.6\n",
              "' fill='#000000'/>\n",
              "<path class='atom-1' d='M 124.2 130.8\n",
              "L 130.4 130.8\n",
              "L 130.4 109.7\n",
              "L 123.5 111.8\n",
              "L 122.6 109.4\n",
              "L 131.3 105.5\n",
              "L 134.1 106.0\n",
              "L 134.1 130.8\n",
              "L 139.7 130.8\n",
              "L 139.7 134.0\n",
              "L 124.2 134.0\n",
              "L 124.2 130.8\n",
              "' fill='#000000'/>\n",
              "<path class='atom-2' d='M 198.2 175.6\n",
              "Q 198.2 168.8, 201.6 165.0\n",
              "Q 205.0 161.2, 211.2 161.2\n",
              "Q 217.5 161.2, 220.9 165.0\n",
              "Q 224.2 168.8, 224.2 175.6\n",
              "Q 224.2 182.5, 220.8 186.4\n",
              "Q 217.4 190.3, 211.2 190.3\n",
              "Q 205.0 190.3, 201.6 186.4\n",
              "Q 198.2 182.5, 198.2 175.6\n",
              "M 211.2 187.1\n",
              "Q 215.6 187.1, 217.9 184.2\n",
              "Q 220.2 181.3, 220.2 175.6\n",
              "Q 220.2 170.1, 217.9 167.3\n",
              "Q 215.6 164.4, 211.2 164.4\n",
              "Q 206.9 164.4, 204.6 167.2\n",
              "Q 202.2 170.0, 202.2 175.6\n",
              "Q 202.2 181.3, 204.6 184.2\n",
              "Q 206.9 187.1, 211.2 187.1\n",
              "' fill='#FF0000'/>\n",
              "<path class='atom-2' d='M 228.0 185.2\n",
              "L 232.0 185.2\n",
              "L 232.0 189.2\n",
              "L 228.0 189.2\n",
              "L 228.0 185.2\n",
              "M 228.0 171.4\n",
              "L 232.0 171.4\n",
              "L 232.0 175.4\n",
              "L 228.0 175.4\n",
              "L 228.0 171.4\n",
              "' fill='#FF0000'/>\n",
              "<path class='atom-2' d='M 236.9 166.9\n",
              "Q 237.9 164.2, 240.4 162.7\n",
              "Q 242.9 161.2, 246.3 161.2\n",
              "Q 250.6 161.2, 253.0 163.5\n",
              "Q 255.4 165.9, 255.4 170.0\n",
              "Q 255.4 174.2, 252.3 178.1\n",
              "Q 249.2 182.0, 242.8 186.7\n",
              "L 255.9 186.7\n",
              "L 255.9 189.9\n",
              "L 236.8 189.9\n",
              "L 236.8 187.2\n",
              "Q 242.1 183.4, 245.2 180.6\n",
              "Q 248.4 177.8, 249.9 175.3\n",
              "Q 251.4 172.8, 251.4 170.2\n",
              "Q 251.4 167.5, 250.0 165.9\n",
              "Q 248.7 164.4, 246.3 164.4\n",
              "Q 244.0 164.4, 242.5 165.3\n",
              "Q 241.0 166.3, 239.9 168.3\n",
              "L 236.9 166.9\n",
              "' fill='#FF0000'/>\n",
              "<path class='atom-2' d='M 260.1 161.5\n",
              "L 263.9 161.5\n",
              "L 263.9 173.6\n",
              "L 278.4 173.6\n",
              "L 278.4 161.5\n",
              "L 282.2 161.5\n",
              "L 282.2 189.9\n",
              "L 278.4 189.9\n",
              "L 278.4 176.8\n",
              "L 263.9 176.8\n",
              "L 263.9 189.9\n",
              "L 260.1 189.9\n",
              "L 260.1 161.5\n",
              "' fill='#FF0000'/>\n",
              "</svg>\n"
            ],
            "image/svg+xml": "<?xml version='1.0' encoding='iso-8859-1'?>\n<svg version='1.1' baseProfile='full'\n              xmlns='http://www.w3.org/2000/svg'\n                      xmlns:rdkit='http://www.rdkit.org/xml'\n                      xmlns:xlink='http://www.w3.org/1999/xlink'\n                  xml:space='preserve'\nwidth='300px' height='300px' viewBox='0 0 300 300'>\n<!-- END OF HEADER -->\n<rect style='opacity:1.0;fill:#FFFFFF;stroke:none' width='300.0' height='300.0' x='0.0' y='0.0'> </rect>\n<path class='bond-0 atom-0 atom-1' d='M 17.8,175.5 L 85.6,136.4' style='fill:none;fill-rule:evenodd;stroke:#000000;stroke-width:2.0px;stroke-linecap:butt;stroke-linejoin:miter;stroke-opacity:1' />\n<path class='bond-1 atom-1 atom-2' d='M 143.4,136.4 L 169.0,151.1' style='fill:none;fill-rule:evenodd;stroke:#000000;stroke-width:2.0px;stroke-linecap:butt;stroke-linejoin:miter;stroke-opacity:1' />\n<path class='bond-1 atom-1 atom-2' d='M 169.0,151.1 L 194.5,165.9' style='fill:none;fill-rule:evenodd;stroke:#FF0000;stroke-width:2.0px;stroke-linecap:butt;stroke-linejoin:miter;stroke-opacity:1' />\n<path class='atom-1' d='M 89.3 119.8\nQ 89.3 112.8, 92.6 109.1\nQ 95.9 105.4, 102.2 105.4\nQ 108.0 105.4, 111.2 109.5\nL 108.5 111.7\nQ 106.2 108.7, 102.2 108.7\nQ 97.9 108.7, 95.6 111.5\nQ 93.4 114.4, 93.4 119.8\nQ 93.4 125.4, 95.7 128.3\nQ 98.1 131.2, 102.6 131.2\nQ 105.8 131.2, 109.4 129.3\nL 110.5 132.3\nQ 109.0 133.3, 106.8 133.8\nQ 104.6 134.4, 102.1 134.4\nQ 95.9 134.4, 92.6 130.6\nQ 89.3 126.9, 89.3 119.8\n' fill='#000000'/>\n<path class='atom-1' d='M 114.2 129.3\nL 118.2 129.3\nL 118.2 133.3\nL 114.2 133.3\nL 114.2 129.3\nM 114.2 115.6\nL 118.2 115.6\nL 118.2 119.6\nL 114.2 119.6\nL 114.2 115.6\n' fill='#000000'/>\n<path class='atom-1' d='M 124.2 130.8\nL 130.4 130.8\nL 130.4 109.7\nL 123.5 111.8\nL 122.6 109.4\nL 131.3 105.5\nL 134.1 106.0\nL 134.1 130.8\nL 139.7 130.8\nL 139.7 134.0\nL 124.2 134.0\nL 124.2 130.8\n' fill='#000000'/>\n<path class='atom-2' d='M 198.2 175.6\nQ 198.2 168.8, 201.6 165.0\nQ 205.0 161.2, 211.2 161.2\nQ 217.5 161.2, 220.9 165.0\nQ 224.2 168.8, 224.2 175.6\nQ 224.2 182.5, 220.8 186.4\nQ 217.4 190.3, 211.2 190.3\nQ 205.0 190.3, 201.6 186.4\nQ 198.2 182.5, 198.2 175.6\nM 211.2 187.1\nQ 215.6 187.1, 217.9 184.2\nQ 220.2 181.3, 220.2 175.6\nQ 220.2 170.1, 217.9 167.3\nQ 215.6 164.4, 211.2 164.4\nQ 206.9 164.4, 204.6 167.2\nQ 202.2 170.0, 202.2 175.6\nQ 202.2 181.3, 204.6 184.2\nQ 206.9 187.1, 211.2 187.1\n' fill='#FF0000'/>\n<path class='atom-2' d='M 228.0 185.2\nL 232.0 185.2\nL 232.0 189.2\nL 228.0 189.2\nL 228.0 185.2\nM 228.0 171.4\nL 232.0 171.4\nL 232.0 175.4\nL 228.0 175.4\nL 228.0 171.4\n' fill='#FF0000'/>\n<path class='atom-2' d='M 236.9 166.9\nQ 237.9 164.2, 240.4 162.7\nQ 242.9 161.2, 246.3 161.2\nQ 250.6 161.2, 253.0 163.5\nQ 255.4 165.9, 255.4 170.0\nQ 255.4 174.2, 252.3 178.1\nQ 249.2 182.0, 242.8 186.7\nL 255.9 186.7\nL 255.9 189.9\nL 236.8 189.9\nL 236.8 187.2\nQ 242.1 183.4, 245.2 180.6\nQ 248.4 177.8, 249.9 175.3\nQ 251.4 172.8, 251.4 170.2\nQ 251.4 167.5, 250.0 165.9\nQ 248.7 164.4, 246.3 164.4\nQ 244.0 164.4, 242.5 165.3\nQ 241.0 166.3, 239.9 168.3\nL 236.9 166.9\n' fill='#FF0000'/>\n<path class='atom-2' d='M 260.1 161.5\nL 263.9 161.5\nL 263.9 173.6\nL 278.4 173.6\nL 278.4 161.5\nL 282.2 161.5\nL 282.2 189.9\nL 278.4 189.9\nL 278.4 176.8\nL 263.9 176.8\nL 263.9 189.9\nL 260.1 189.9\nL 260.1 161.5\n' fill='#FF0000'/>\n</svg>\n",
            "image/png": "[encoded data removed]"
          },
          "metadata": {},
          "execution_count": 25
        }
      ]
    },
    {
      "cell_type": "code",
      "source": [
        "mol_with_atom_index(mol2)"
      ],
      "metadata": {
        "colab": {
          "base_uri": "https://localhost:8080/",
          "height": 321
        },
        "id": "IY1Vh7o0BwKi",
        "outputId": "3e899072-f731-4b2a-c7bc-ac298a8dc57b"
      },
      "execution_count": 26,
      "outputs": [
        {
          "output_type": "execute_result",
          "data": {
            "text/plain": [
              "<rdkit.Chem.rdchem.Mol at 0x7f24b7b24850>"
            ],
            "text/html": [
              "<?xml version='1.0' encoding='iso-8859-1'?>\n",
              "<svg version='1.1' baseProfile='full'\n",
              "              xmlns='http://www.w3.org/2000/svg'\n",
              "                      xmlns:rdkit='http://www.rdkit.org/xml'\n",
              "                      xmlns:xlink='http://www.w3.org/1999/xlink'\n",
              "                  xml:space='preserve'\n",
              "width='300px' height='300px' viewBox='0 0 300 300'>\n",
              "<!-- END OF HEADER -->\n",
              "<rect style='opacity:1.0;fill:#FFFFFF;stroke:none' width='300.0' height='300.0' x='0.0' y='0.0'> </rect>\n",
              "<path class='bond-0 atom-0 atom-1' d='M 286.4,148.0 L 229.8,148.0' style='fill:none;fill-rule:evenodd;stroke:#000000;stroke-width:2.0px;stroke-linecap:butt;stroke-linejoin:miter;stroke-opacity:1' />\n",
              "<path class='bond-1 atom-1 atom-2' d='M 199.0,162.3 L 175.7,202.7' style='fill:none;fill-rule:evenodd;stroke:#000000;stroke-width:2.0px;stroke-linecap:butt;stroke-linejoin:miter;stroke-opacity:1' />\n",
              "<path class='bond-1 atom-1 atom-2' d='M 188.7,156.3 L 165.4,196.7' style='fill:none;fill-rule:evenodd;stroke:#000000;stroke-width:2.0px;stroke-linecap:butt;stroke-linejoin:miter;stroke-opacity:1' />\n",
              "<path class='bond-2 atom-2 atom-3' d='M 156.4,216.6 L 98.6,216.6' style='fill:none;fill-rule:evenodd;stroke:#000000;stroke-width:2.0px;stroke-linecap:butt;stroke-linejoin:miter;stroke-opacity:1' />\n",
              "<path class='bond-3 atom-3 atom-4' d='M 80.4,202.7 L 56.9,162.0' style='fill:none;fill-rule:evenodd;stroke:#000000;stroke-width:2.0px;stroke-linecap:butt;stroke-linejoin:miter;stroke-opacity:1' />\n",
              "<path class='bond-3 atom-3 atom-4' d='M 90.7,196.7 L 67.2,156.1' style='fill:none;fill-rule:evenodd;stroke:#000000;stroke-width:2.0px;stroke-linecap:butt;stroke-linejoin:miter;stroke-opacity:1' />\n",
              "<path class='bond-4 atom-4 atom-5' d='M 56.8,134.3 L 78.2,97.2' style='fill:none;fill-rule:evenodd;stroke:#000000;stroke-width:2.0px;stroke-linecap:butt;stroke-linejoin:miter;stroke-opacity:1' />\n",
              "<path class='bond-5 atom-5 atom-6' d='M 98.7,79.5 L 156.4,79.5' style='fill:none;fill-rule:evenodd;stroke:#000000;stroke-width:2.0px;stroke-linecap:butt;stroke-linejoin:miter;stroke-opacity:1' />\n",
              "<path class='bond-5 atom-5 atom-6' d='M 98.7,91.4 L 156.4,91.4' style='fill:none;fill-rule:evenodd;stroke:#000000;stroke-width:2.0px;stroke-linecap:butt;stroke-linejoin:miter;stroke-opacity:1' />\n",
              "<path class='bond-6 atom-6 atom-1' d='M 177.9,97.3 L 199.1,134.1' style='fill:none;fill-rule:evenodd;stroke:#000000;stroke-width:2.0px;stroke-linecap:butt;stroke-linejoin:miter;stroke-opacity:1' />\n",
              "<path class='atom-1' d='M 187.3 148.1\n",
              "Q 187.3 142.6, 189.9 139.7\n",
              "Q 192.5 136.7, 197.5 136.7\n",
              "Q 202.1 136.7, 204.5 140.0\n",
              "L 202.5 141.7\n",
              "Q 200.7 139.3, 197.5 139.3\n",
              "Q 194.1 139.3, 192.3 141.6\n",
              "Q 190.5 143.8, 190.5 148.1\n",
              "Q 190.5 152.6, 192.3 154.9\n",
              "Q 194.2 157.1, 197.8 157.1\n",
              "Q 200.3 157.1, 203.2 155.6\n",
              "L 204.0 158.0\n",
              "Q 202.9 158.8, 201.1 159.2\n",
              "Q 199.3 159.7, 197.4 159.7\n",
              "Q 192.5 159.7, 189.9 156.7\n",
              "Q 187.3 153.7, 187.3 148.1\n",
              "' fill='#000000'/>\n",
              "<path class='atom-1' d='M 206.9 155.7\n",
              "L 210.1 155.7\n",
              "L 210.1 158.8\n",
              "L 206.9 158.8\n",
              "L 206.9 155.7\n",
              "M 206.9 144.8\n",
              "L 210.1 144.8\n",
              "L 210.1 147.9\n",
              "L 206.9 147.9\n",
              "L 206.9 144.8\n",
              "' fill='#000000'/>\n",
              "<path class='atom-1' d='M 214.9 156.8\n",
              "L 219.8 156.8\n",
              "L 219.8 140.1\n",
              "L 214.4 141.8\n",
              "L 213.6 139.9\n",
              "L 220.5 136.8\n",
              "L 222.7 137.2\n",
              "L 222.7 156.8\n",
              "L 227.1 156.8\n",
              "L 227.1 159.4\n",
              "L 214.9 159.4\n",
              "L 214.9 156.8\n",
              "' fill='#000000'/>\n",
              "<path class='atom-2' d='M 159.0 216.7\n",
              "Q 159.0 211.1, 161.6 208.2\n",
              "Q 164.2 205.3, 169.2 205.3\n",
              "Q 173.8 205.3, 176.3 208.5\n",
              "L 174.2 210.2\n",
              "Q 172.4 207.9, 169.2 207.9\n",
              "Q 165.8 207.9, 164.0 210.1\n",
              "Q 162.2 212.4, 162.2 216.7\n",
              "Q 162.2 221.1, 164.0 223.4\n",
              "Q 165.9 225.7, 169.5 225.7\n",
              "Q 172.0 225.7, 174.9 224.2\n",
              "L 175.8 226.6\n",
              "Q 174.6 227.3, 172.8 227.8\n",
              "Q 171.0 228.2, 169.1 228.2\n",
              "Q 164.2 228.2, 161.6 225.2\n",
              "Q 159.0 222.3, 159.0 216.7\n",
              "' fill='#000000'/>\n",
              "<path class='atom-2' d='M 178.7 224.2\n",
              "L 181.9 224.2\n",
              "L 181.9 227.4\n",
              "L 178.7 227.4\n",
              "L 178.7 224.2\n",
              "M 178.7 213.3\n",
              "L 181.9 213.3\n",
              "L 181.9 216.5\n",
              "L 178.7 216.5\n",
              "L 178.7 213.3\n",
              "' fill='#000000'/>\n",
              "<path class='atom-2' d='M 185.5 209.8\n",
              "Q 186.3 207.6, 188.3 206.5\n",
              "Q 190.3 205.3, 193.0 205.3\n",
              "Q 196.4 205.3, 198.3 207.1\n",
              "Q 200.2 208.9, 200.2 212.2\n",
              "Q 200.2 215.5, 197.7 218.6\n",
              "Q 195.3 221.7, 190.2 225.4\n",
              "L 200.5 225.4\n",
              "L 200.5 227.9\n",
              "L 185.4 227.9\n",
              "L 185.4 225.8\n",
              "Q 189.6 222.8, 192.1 220.6\n",
              "Q 194.6 218.4, 195.8 216.4\n",
              "Q 197.0 214.4, 197.0 212.4\n",
              "Q 197.0 210.2, 195.9 209.0\n",
              "Q 194.8 207.8, 193.0 207.8\n",
              "Q 191.2 207.8, 190.0 208.5\n",
              "Q 188.8 209.3, 187.9 210.9\n",
              "L 185.5 209.8\n",
              "' fill='#000000'/>\n",
              "<path class='atom-3' d='M 54.5 216.7\n",
              "Q 54.5 211.1, 57.1 208.2\n",
              "Q 59.7 205.3, 64.7 205.3\n",
              "Q 69.3 205.3, 71.7 208.5\n",
              "L 69.7 210.2\n",
              "Q 67.8 207.9, 64.7 207.9\n",
              "Q 61.3 207.9, 59.5 210.1\n",
              "Q 57.7 212.4, 57.7 216.7\n",
              "Q 57.7 221.1, 59.5 223.4\n",
              "Q 61.4 225.7, 65.0 225.7\n",
              "Q 67.5 225.7, 70.4 224.2\n",
              "L 71.2 226.6\n",
              "Q 70.1 227.3, 68.3 227.8\n",
              "Q 66.5 228.2, 64.6 228.2\n",
              "Q 59.7 228.2, 57.1 225.2\n",
              "Q 54.5 222.3, 54.5 216.7\n",
              "' fill='#000000'/>\n",
              "<path class='atom-3' d='M 74.2 224.2\n",
              "L 77.4 224.2\n",
              "L 77.4 227.4\n",
              "L 74.2 227.4\n",
              "L 74.2 224.2\n",
              "M 74.2 213.3\n",
              "L 77.4 213.3\n",
              "L 77.4 216.5\n",
              "L 74.2 216.5\n",
              "L 74.2 213.3\n",
              "' fill='#000000'/>\n",
              "<path class='atom-3' d='M 91.7 216.1\n",
              "Q 93.9 216.8, 94.9 218.2\n",
              "Q 96.0 219.6, 96.0 221.8\n",
              "Q 96.0 223.7, 95.0 225.2\n",
              "Q 94.1 226.6, 92.4 227.5\n",
              "Q 90.6 228.3, 88.3 228.3\n",
              "Q 85.9 228.3, 84.1 227.4\n",
              "Q 82.3 226.6, 80.9 224.9\n",
              "L 82.7 223.0\n",
              "Q 84.1 224.5, 85.3 225.2\n",
              "Q 86.5 225.7, 88.3 225.7\n",
              "Q 90.4 225.7, 91.6 224.6\n",
              "Q 92.8 223.5, 92.8 221.8\n",
              "Q 92.8 219.5, 91.5 218.5\n",
              "Q 90.3 217.4, 87.5 217.4\n",
              "L 85.9 217.4\n",
              "L 85.9 215.1\n",
              "L 87.3 215.1\n",
              "Q 89.8 215.1, 91.1 214.1\n",
              "Q 92.4 213.0, 92.4 211.0\n",
              "Q 92.4 209.5, 91.3 208.7\n",
              "Q 90.2 207.8, 88.4 207.8\n",
              "Q 86.5 207.8, 85.3 208.5\n",
              "Q 84.2 209.1, 83.3 210.8\n",
              "L 81.1 209.6\n",
              "Q 81.9 207.8, 83.8 206.5\n",
              "Q 85.7 205.3, 88.4 205.3\n",
              "Q 91.7 205.3, 93.6 206.8\n",
              "Q 95.5 208.4, 95.5 211.0\n",
              "Q 95.5 212.8, 94.5 214.1\n",
              "Q 93.6 215.4, 91.7 216.1\n",
              "' fill='#000000'/>\n",
              "<path class='atom-4' d='M 13.6 148.1\n",
              "Q 13.6 142.6, 16.2 139.7\n",
              "Q 18.9 136.7, 23.8 136.7\n",
              "Q 28.5 136.7, 30.9 140.0\n",
              "L 28.8 141.7\n",
              "Q 27.0 139.3, 23.8 139.3\n",
              "Q 20.4 139.3, 18.6 141.6\n",
              "Q 16.9 143.8, 16.9 148.1\n",
              "Q 16.9 152.6, 18.7 154.9\n",
              "Q 20.6 157.1, 24.2 157.1\n",
              "Q 26.7 157.1, 29.5 155.6\n",
              "L 30.4 158.0\n",
              "Q 29.2 158.8, 27.5 159.2\n",
              "Q 25.7 159.7, 23.7 159.7\n",
              "Q 18.9 159.7, 16.2 156.7\n",
              "Q 13.6 153.7, 13.6 148.1\n",
              "' fill='#000000'/>\n",
              "<path class='atom-4' d='M 33.4 155.7\n",
              "L 36.6 155.7\n",
              "L 36.6 158.8\n",
              "L 33.4 158.8\n",
              "L 33.4 155.7\n",
              "M 33.4 144.8\n",
              "L 36.6 144.8\n",
              "L 36.6 147.9\n",
              "L 33.4 147.9\n",
              "L 33.4 144.8\n",
              "' fill='#000000'/>\n",
              "<path class='atom-4' d='M 54.8 151.7\n",
              "L 57.5 151.7\n",
              "L 57.5 154.2\n",
              "L 54.8 154.2\n",
              "L 54.8 159.4\n",
              "L 51.8 159.4\n",
              "L 51.8 154.2\n",
              "L 40.2 154.2\n",
              "L 40.2 152.2\n",
              "L 50.1 137.0\n",
              "L 54.8 137.0\n",
              "L 54.8 151.7\n",
              "M 43.9 151.7\n",
              "L 51.8 151.7\n",
              "L 51.8 139.0\n",
              "L 43.9 151.7\n",
              "' fill='#000000'/>\n",
              "<path class='atom-5' d='M 54.4 79.6\n",
              "Q 54.4 74.0, 57.0 71.1\n",
              "Q 59.6 68.2, 64.6 68.2\n",
              "Q 69.2 68.2, 71.7 71.4\n",
              "L 69.6 73.1\n",
              "Q 67.8 70.7, 64.6 70.7\n",
              "Q 61.2 70.7, 59.4 73.0\n",
              "Q 57.6 75.3, 57.6 79.6\n",
              "Q 57.6 84.0, 59.5 86.3\n",
              "Q 61.3 88.6, 64.9 88.6\n",
              "Q 67.4 88.6, 70.3 87.1\n",
              "L 71.2 89.5\n",
              "Q 70.0 90.2, 68.2 90.7\n",
              "Q 66.5 91.1, 64.5 91.1\n",
              "Q 59.6 91.1, 57.0 88.1\n",
              "Q 54.4 85.2, 54.4 79.6\n",
              "' fill='#000000'/>\n",
              "<path class='atom-5' d='M 74.1 87.1\n",
              "L 77.3 87.1\n",
              "L 77.3 90.3\n",
              "L 74.1 90.3\n",
              "L 74.1 87.1\n",
              "M 74.1 76.2\n",
              "L 77.3 76.2\n",
              "L 77.3 79.4\n",
              "L 74.1 79.4\n",
              "L 74.1 76.2\n",
              "' fill='#000000'/>\n",
              "<path class='atom-5' d='M 89.0 76.8\n",
              "Q 91.0 76.8, 92.6 77.7\n",
              "Q 94.2 78.5, 95.1 80.1\n",
              "Q 96.0 81.6, 96.0 83.7\n",
              "Q 96.0 86.0, 94.9 87.7\n",
              "Q 93.8 89.4, 92.0 90.2\n",
              "Q 90.1 91.1, 88.0 91.1\n",
              "Q 86.0 91.1, 84.1 90.3\n",
              "Q 82.2 89.6, 80.9 88.1\n",
              "L 82.8 86.1\n",
              "Q 83.8 87.3, 85.2 87.9\n",
              "Q 86.7 88.5, 88.1 88.5\n",
              "Q 90.1 88.5, 91.5 87.3\n",
              "Q 92.9 86.0, 92.9 83.8\n",
              "Q 92.9 81.4, 91.5 80.3\n",
              "Q 90.1 79.2, 87.9 79.2\n",
              "Q 86.0 79.2, 83.8 80.0\n",
              "L 82.0 79.2\n",
              "L 83.1 68.4\n",
              "L 94.6 68.4\n",
              "L 94.3 70.9\n",
              "L 85.7 70.9\n",
              "L 85.1 77.6\n",
              "Q 87.0 76.8, 89.0 76.8\n",
              "' fill='#000000'/>\n",
              "<path class='atom-6' d='M 159.0 79.6\n",
              "Q 159.0 74.0, 161.6 71.1\n",
              "Q 164.2 68.2, 169.2 68.2\n",
              "Q 173.8 68.2, 176.3 71.4\n",
              "L 174.2 73.1\n",
              "Q 172.4 70.7, 169.2 70.7\n",
              "Q 165.8 70.7, 164.0 73.0\n",
              "Q 162.2 75.3, 162.2 79.6\n",
              "Q 162.2 84.0, 164.0 86.3\n",
              "Q 165.9 88.6, 169.5 88.6\n",
              "Q 172.0 88.6, 174.9 87.1\n",
              "L 175.8 89.5\n",
              "Q 174.6 90.2, 172.8 90.7\n",
              "Q 171.0 91.1, 169.1 91.1\n",
              "Q 164.2 91.1, 161.6 88.1\n",
              "Q 159.0 85.2, 159.0 79.6\n",
              "' fill='#000000'/>\n",
              "<path class='atom-6' d='M 178.7 87.1\n",
              "L 181.9 87.1\n",
              "L 181.9 90.3\n",
              "L 178.7 90.3\n",
              "L 178.7 87.1\n",
              "M 178.7 76.2\n",
              "L 181.9 76.2\n",
              "L 181.9 79.4\n",
              "L 178.7 79.4\n",
              "L 178.7 76.2\n",
              "' fill='#000000'/>\n",
              "<path class='atom-6' d='M 194.2 76.8\n",
              "Q 196.2 76.8, 197.8 77.7\n",
              "Q 199.3 78.5, 200.2 80.1\n",
              "Q 201.0 81.6, 201.0 83.6\n",
              "Q 201.0 85.8, 200.0 87.5\n",
              "Q 199.1 89.2, 197.4 90.1\n",
              "Q 195.7 91.1, 193.5 91.1\n",
              "Q 189.5 91.1, 187.5 88.4\n",
              "Q 185.5 85.7, 185.5 80.3\n",
              "Q 185.5 74.3, 187.9 71.3\n",
              "Q 190.4 68.2, 195.2 68.2\n",
              "Q 196.6 68.2, 197.8 68.5\n",
              "Q 199.0 68.8, 200.1 69.5\n",
              "L 198.9 71.6\n",
              "Q 197.3 70.7, 195.3 70.7\n",
              "Q 192.1 70.7, 190.5 72.7\n",
              "Q 188.9 74.8, 188.7 79.0\n",
              "Q 189.8 77.9, 191.2 77.4\n",
              "Q 192.7 76.8, 194.2 76.8\n",
              "M 193.5 88.5\n",
              "Q 194.7 88.5, 195.7 87.8\n",
              "Q 196.7 87.2, 197.3 86.1\n",
              "Q 197.9 85.0, 197.9 83.6\n",
              "Q 197.9 81.6, 196.7 80.5\n",
              "Q 195.6 79.4, 193.7 79.4\n",
              "Q 192.3 79.4, 191.0 79.9\n",
              "Q 189.6 80.5, 188.7 81.4\n",
              "Q 188.8 85.1, 190.0 86.8\n",
              "Q 191.1 88.5, 193.5 88.5\n",
              "' fill='#000000'/>\n",
              "</svg>\n"
            ],
            "image/svg+xml": "<?xml version='1.0' encoding='iso-8859-1'?>\n<svg version='1.1' baseProfile='full'\n              xmlns='http://www.w3.org/2000/svg'\n                      xmlns:rdkit='http://www.rdkit.org/xml'\n                      xmlns:xlink='http://www.w3.org/1999/xlink'\n                  xml:space='preserve'\nwidth='300px' height='300px' viewBox='0 0 300 300'>\n<!-- END OF HEADER -->\n<rect style='opacity:1.0;fill:#FFFFFF;stroke:none' width='300.0' height='300.0' x='0.0' y='0.0'> </rect>\n<path class='bond-0 atom-0 atom-1' d='M 286.4,148.0 L 229.8,148.0' style='fill:none;fill-rule:evenodd;stroke:#000000;stroke-width:2.0px;stroke-linecap:butt;stroke-linejoin:miter;stroke-opacity:1' />\n<path class='bond-1 atom-1 atom-2' d='M 199.0,162.3 L 175.7,202.7' style='fill:none;fill-rule:evenodd;stroke:#000000;stroke-width:2.0px;stroke-linecap:butt;stroke-linejoin:miter;stroke-opacity:1' />\n<path class='bond-1 atom-1 atom-2' d='M 188.7,156.3 L 165.4,196.7' style='fill:none;fill-rule:evenodd;stroke:#000000;stroke-width:2.0px;stroke-linecap:butt;stroke-linejoin:miter;stroke-opacity:1' />\n<path class='bond-2 atom-2 atom-3' d='M 156.4,216.6 L 98.6,216.6' style='fill:none;fill-rule:evenodd;stroke:#000000;stroke-width:2.0px;stroke-linecap:butt;stroke-linejoin:miter;stroke-opacity:1' />\n<path class='bond-3 atom-3 atom-4' d='M 80.4,202.7 L 56.9,162.0' style='fill:none;fill-rule:evenodd;stroke:#000000;stroke-width:2.0px;stroke-linecap:butt;stroke-linejoin:miter;stroke-opacity:1' />\n<path class='bond-3 atom-3 atom-4' d='M 90.7,196.7 L 67.2,156.1' style='fill:none;fill-rule:evenodd;stroke:#000000;stroke-width:2.0px;stroke-linecap:butt;stroke-linejoin:miter;stroke-opacity:1' />\n<path class='bond-4 atom-4 atom-5' d='M 56.8,134.3 L 78.2,97.2' style='fill:none;fill-rule:evenodd;stroke:#000000;stroke-width:2.0px;stroke-linecap:butt;stroke-linejoin:miter;stroke-opacity:1' />\n<path class='bond-5 atom-5 atom-6' d='M 98.7,79.5 L 156.4,79.5' style='fill:none;fill-rule:evenodd;stroke:#000000;stroke-width:2.0px;stroke-linecap:butt;stroke-linejoin:miter;stroke-opacity:1' />\n<path class='bond-5 atom-5 atom-6' d='M 98.7,91.4 L 156.4,91.4' style='fill:none;fill-rule:evenodd;stroke:#000000;stroke-width:2.0px;stroke-linecap:butt;stroke-linejoin:miter;stroke-opacity:1' />\n<path class='bond-6 atom-6 atom-1' d='M 177.9,97.3 L 199.1,134.1' style='fill:none;fill-rule:evenodd;stroke:#000000;stroke-width:2.0px;stroke-linecap:butt;stroke-linejoin:miter;stroke-opacity:1' />\n<path class='atom-1' d='M 187.3 148.1\nQ 187.3 142.6, 189.9 139.7\nQ 192.5 136.7, 197.5 136.7\nQ 202.1 136.7, 204.5 140.0\nL 202.5 141.7\nQ 200.7 139.3, 197.5 139.3\nQ 194.1 139.3, 192.3 141.6\nQ 190.5 143.8, 190.5 148.1\nQ 190.5 152.6, 192.3 154.9\nQ 194.2 157.1, 197.8 157.1\nQ 200.3 157.1, 203.2 155.6\nL 204.0 158.0\nQ 202.9 158.8, 201.1 159.2\nQ 199.3 159.7, 197.4 159.7\nQ 192.5 159.7, 189.9 156.7\nQ 187.3 153.7, 187.3 148.1\n' fill='#000000'/>\n<path class='atom-1' d='M 206.9 155.7\nL 210.1 155.7\nL 210.1 158.8\nL 206.9 158.8\nL 206.9 155.7\nM 206.9 144.8\nL 210.1 144.8\nL 210.1 147.9\nL 206.9 147.9\nL 206.9 144.8\n' fill='#000000'/>\n<path class='atom-1' d='M 214.9 156.8\nL 219.8 156.8\nL 219.8 140.1\nL 214.4 141.8\nL 213.6 139.9\nL 220.5 136.8\nL 222.7 137.2\nL 222.7 156.8\nL 227.1 156.8\nL 227.1 159.4\nL 214.9 159.4\nL 214.9 156.8\n' fill='#000000'/>\n<path class='atom-2' d='M 159.0 216.7\nQ 159.0 211.1, 161.6 208.2\nQ 164.2 205.3, 169.2 205.3\nQ 173.8 205.3, 176.3 208.5\nL 174.2 210.2\nQ 172.4 207.9, 169.2 207.9\nQ 165.8 207.9, 164.0 210.1\nQ 162.2 212.4, 162.2 216.7\nQ 162.2 221.1, 164.0 223.4\nQ 165.9 225.7, 169.5 225.7\nQ 172.0 225.7, 174.9 224.2\nL 175.8 226.6\nQ 174.6 227.3, 172.8 227.8\nQ 171.0 228.2, 169.1 228.2\nQ 164.2 228.2, 161.6 225.2\nQ 159.0 222.3, 159.0 216.7\n' fill='#000000'/>\n<path class='atom-2' d='M 178.7 224.2\nL 181.9 224.2\nL 181.9 227.4\nL 178.7 227.4\nL 178.7 224.2\nM 178.7 213.3\nL 181.9 213.3\nL 181.9 216.5\nL 178.7 216.5\nL 178.7 213.3\n' fill='#000000'/>\n<path class='atom-2' d='M 185.5 209.8\nQ 186.3 207.6, 188.3 206.5\nQ 190.3 205.3, 193.0 205.3\nQ 196.4 205.3, 198.3 207.1\nQ 200.2 208.9, 200.2 212.2\nQ 200.2 215.5, 197.7 218.6\nQ 195.3 221.7, 190.2 225.4\nL 200.5 225.4\nL 200.5 227.9\nL 185.4 227.9\nL 185.4 225.8\nQ 189.6 222.8, 192.1 220.6\nQ 194.6 218.4, 195.8 216.4\nQ 197.0 214.4, 197.0 212.4\nQ 197.0 210.2, 195.9 209.0\nQ 194.8 207.8, 193.0 207.8\nQ 191.2 207.8, 190.0 208.5\nQ 188.8 209.3, 187.9 210.9\nL 185.5 209.8\n' fill='#000000'/>\n<path class='atom-3' d='M 54.5 216.7\nQ 54.5 211.1, 57.1 208.2\nQ 59.7 205.3, 64.7 205.3\nQ 69.3 205.3, 71.7 208.5\nL 69.7 210.2\nQ 67.8 207.9, 64.7 207.9\nQ 61.3 207.9, 59.5 210.1\nQ 57.7 212.4, 57.7 216.7\nQ 57.7 221.1, 59.5 223.4\nQ 61.4 225.7, 65.0 225.7\nQ 67.5 225.7, 70.4 224.2\nL 71.2 226.6\nQ 70.1 227.3, 68.3 227.8\nQ 66.5 228.2, 64.6 228.2\nQ 59.7 228.2, 57.1 225.2\nQ 54.5 222.3, 54.5 216.7\n' fill='#000000'/>\n<path class='atom-3' d='M 74.2 224.2\nL 77.4 224.2\nL 77.4 227.4\nL 74.2 227.4\nL 74.2 224.2\nM 74.2 213.3\nL 77.4 213.3\nL 77.4 216.5\nL 74.2 216.5\nL 74.2 213.3\n' fill='#000000'/>\n<path class='atom-3' d='M 91.7 216.1\nQ 93.9 216.8, 94.9 218.2\nQ 96.0 219.6, 96.0 221.8\nQ 96.0 223.7, 95.0 225.2\nQ 94.1 226.6, 92.4 227.5\nQ 90.6 228.3, 88.3 228.3\nQ 85.9 228.3, 84.1 227.4\nQ 82.3 226.6, 80.9 224.9\nL 82.7 223.0\nQ 84.1 224.5, 85.3 225.2\nQ 86.5 225.7, 88.3 225.7\nQ 90.4 225.7, 91.6 224.6\nQ 92.8 223.5, 92.8 221.8\nQ 92.8 219.5, 91.5 218.5\nQ 90.3 217.4, 87.5 217.4\nL 85.9 217.4\nL 85.9 215.1\nL 87.3 215.1\nQ 89.8 215.1, 91.1 214.1\nQ 92.4 213.0, 92.4 211.0\nQ 92.4 209.5, 91.3 208.7\nQ 90.2 207.8, 88.4 207.8\nQ 86.5 207.8, 85.3 208.5\nQ 84.2 209.1, 83.3 210.8\nL 81.1 209.6\nQ 81.9 207.8, 83.8 206.5\nQ 85.7 205.3, 88.4 205.3\nQ 91.7 205.3, 93.6 206.8\nQ 95.5 208.4, 95.5 211.0\nQ 95.5 212.8, 94.5 214.1\nQ 93.6 215.4, 91.7 216.1\n' fill='#000000'/>\n<path class='atom-4' d='M 13.6 148.1\nQ 13.6 142.6, 16.2 139.7\nQ 18.9 136.7, 23.8 136.7\nQ 28.5 136.7, 30.9 140.0\nL 28.8 141.7\nQ 27.0 139.3, 23.8 139.3\nQ 20.4 139.3, 18.6 141.6\nQ 16.9 143.8, 16.9 148.1\nQ 16.9 152.6, 18.7 154.9\nQ 20.6 157.1, 24.2 157.1\nQ 26.7 157.1, 29.5 155.6\nL 30.4 158.0\nQ 29.2 158.8, 27.5 159.2\nQ 25.7 159.7, 23.7 159.7\nQ 18.9 159.7, 16.2 156.7\nQ 13.6 153.7, 13.6 148.1\n' fill='#000000'/>\n<path class='atom-4' d='M 33.4 155.7\nL 36.6 155.7\nL 36.6 158.8\nL 33.4 158.8\nL 33.4 155.7\nM 33.4 144.8\nL 36.6 144.8\nL 36.6 147.9\nL 33.4 147.9\nL 33.4 144.8\n' fill='#000000'/>\n<path class='atom-4' d='M 54.8 151.7\nL 57.5 151.7\nL 57.5 154.2\nL 54.8 154.2\nL 54.8 159.4\nL 51.8 159.4\nL 51.8 154.2\nL 40.2 154.2\nL 40.2 152.2\nL 50.1 137.0\nL 54.8 137.0\nL 54.8 151.7\nM 43.9 151.7\nL 51.8 151.7\nL 51.8 139.0\nL 43.9 151.7\n' fill='#000000'/>\n<path class='atom-5' d='M 54.4 79.6\nQ 54.4 74.0, 57.0 71.1\nQ 59.6 68.2, 64.6 68.2\nQ 69.2 68.2, 71.7 71.4\nL 69.6 73.1\nQ 67.8 70.7, 64.6 70.7\nQ 61.2 70.7, 59.4 73.0\nQ 57.6 75.3, 57.6 79.6\nQ 57.6 84.0, 59.5 86.3\nQ 61.3 88.6, 64.9 88.6\nQ 67.4 88.6, 70.3 87.1\nL 71.2 89.5\nQ 70.0 90.2, 68.2 90.7\nQ 66.5 91.1, 64.5 91.1\nQ 59.6 91.1, 57.0 88.1\nQ 54.4 85.2, 54.4 79.6\n' fill='#000000'/>\n<path class='atom-5' d='M 74.1 87.1\nL 77.3 87.1\nL 77.3 90.3\nL 74.1 90.3\nL 74.1 87.1\nM 74.1 76.2\nL 77.3 76.2\nL 77.3 79.4\nL 74.1 79.4\nL 74.1 76.2\n' fill='#000000'/>\n<path class='atom-5' d='M 89.0 76.8\nQ 91.0 76.8, 92.6 77.7\nQ 94.2 78.5, 95.1 80.1\nQ 96.0 81.6, 96.0 83.7\nQ 96.0 86.0, 94.9 87.7\nQ 93.8 89.4, 92.0 90.2\nQ 90.1 91.1, 88.0 91.1\nQ 86.0 91.1, 84.1 90.3\nQ 82.2 89.6, 80.9 88.1\nL 82.8 86.1\nQ 83.8 87.3, 85.2 87.9\nQ 86.7 88.5, 88.1 88.5\nQ 90.1 88.5, 91.5 87.3\nQ 92.9 86.0, 92.9 83.8\nQ 92.9 81.4, 91.5 80.3\nQ 90.1 79.2, 87.9 79.2\nQ 86.0 79.2, 83.8 80.0\nL 82.0 79.2\nL 83.1 68.4\nL 94.6 68.4\nL 94.3 70.9\nL 85.7 70.9\nL 85.1 77.6\nQ 87.0 76.8, 89.0 76.8\n' fill='#000000'/>\n<path class='atom-6' d='M 159.0 79.6\nQ 159.0 74.0, 161.6 71.1\nQ 164.2 68.2, 169.2 68.2\nQ 173.8 68.2, 176.3 71.4\nL 174.2 73.1\nQ 172.4 70.7, 169.2 70.7\nQ 165.8 70.7, 164.0 73.0\nQ 162.2 75.3, 162.2 79.6\nQ 162.2 84.0, 164.0 86.3\nQ 165.9 88.6, 169.5 88.6\nQ 172.0 88.6, 174.9 87.1\nL 175.8 89.5\nQ 174.6 90.2, 172.8 90.7\nQ 171.0 91.1, 169.1 91.1\nQ 164.2 91.1, 161.6 88.1\nQ 159.0 85.2, 159.0 79.6\n' fill='#000000'/>\n<path class='atom-6' d='M 178.7 87.1\nL 181.9 87.1\nL 181.9 90.3\nL 178.7 90.3\nL 178.7 87.1\nM 178.7 76.2\nL 181.9 76.2\nL 181.9 79.4\nL 178.7 79.4\nL 178.7 76.2\n' fill='#000000'/>\n<path class='atom-6' d='M 194.2 76.8\nQ 196.2 76.8, 197.8 77.7\nQ 199.3 78.5, 200.2 80.1\nQ 201.0 81.6, 201.0 83.6\nQ 201.0 85.8, 200.0 87.5\nQ 199.1 89.2, 197.4 90.1\nQ 195.7 91.1, 193.5 91.1\nQ 189.5 91.1, 187.5 88.4\nQ 185.5 85.7, 185.5 80.3\nQ 185.5 74.3, 187.9 71.3\nQ 190.4 68.2, 195.2 68.2\nQ 196.6 68.2, 197.8 68.5\nQ 199.0 68.8, 200.1 69.5\nL 198.9 71.6\nQ 197.3 70.7, 195.3 70.7\nQ 192.1 70.7, 190.5 72.7\nQ 188.9 74.8, 188.7 79.0\nQ 189.8 77.9, 191.2 77.4\nQ 192.7 76.8, 194.2 76.8\nM 193.5 88.5\nQ 194.7 88.5, 195.7 87.8\nQ 196.7 87.2, 197.3 86.1\nQ 197.9 85.0, 197.9 83.6\nQ 197.9 81.6, 196.7 80.5\nQ 195.6 79.4, 193.7 79.4\nQ 192.3 79.4, 191.0 79.9\nQ 189.6 80.5, 188.7 81.4\nQ 188.8 85.1, 190.0 86.8\nQ 191.1 88.5, 193.5 88.5\n' fill='#000000'/>\n</svg>\n",
            "image/png": "[encoded data removed]"
          },
          "metadata": {},
          "execution_count": 26
        }
      ]
    },
    {
      "cell_type": "markdown",
      "source": [
        "The second method follows. "
      ],
      "metadata": {
        "id": "TGfkMzrZBAtJ"
      }
    },
    {
      "cell_type": "code",
      "source": [
        "# alternative way to add indexes\n",
        "IPythonConsole.drawOptions.addAtomIndices = True\n",
        "IPythonConsole.molSize = 300,300\n",
        "\n",
        "# display mol with atom indexes next to atoms\n",
        "ethanol_smiles = 'CCO'\n",
        "mol1 = Chem.MolFromSmiles(ethanol_smiles)\n",
        "mol1"
      ],
      "metadata": {
        "colab": {
          "base_uri": "https://localhost:8080/",
          "height": 321
        },
        "id": "8rCgCukQxJ2G",
        "outputId": "93e4539f-1b6b-444e-9b8c-2326d7f256fb"
      },
      "execution_count": 27,
      "outputs": [
        {
          "output_type": "execute_result",
          "data": {
            "text/plain": [
              "<rdkit.Chem.rdchem.Mol at 0x7f24b7b1fad0>"
            ],
            "text/html": [
              "<?xml version='1.0' encoding='iso-8859-1'?>\n",
              "<svg version='1.1' baseProfile='full'\n",
              "              xmlns='http://www.w3.org/2000/svg'\n",
              "                      xmlns:rdkit='http://www.rdkit.org/xml'\n",
              "                      xmlns:xlink='http://www.w3.org/1999/xlink'\n",
              "                  xml:space='preserve'\n",
              "width='300px' height='300px' viewBox='0 0 300 300'>\n",
              "<!-- END OF HEADER -->\n",
              "<rect style='opacity:1.0;fill:#FFFFFF;stroke:none' width='300.0' height='300.0' x='0.0' y='0.0'> </rect>\n",
              "<path class='bond-0 atom-0 atom-1' d='M 33.5,172.8 L 137.8,112.5' style='fill:none;fill-rule:evenodd;stroke:#000000;stroke-width:2.0px;stroke-linecap:butt;stroke-linejoin:miter;stroke-opacity:1' />\n",
              "<path class='bond-1 atom-1 atom-2' d='M 137.8,112.5 L 181.5,137.7' style='fill:none;fill-rule:evenodd;stroke:#000000;stroke-width:2.0px;stroke-linecap:butt;stroke-linejoin:miter;stroke-opacity:1' />\n",
              "<path class='bond-1 atom-1 atom-2' d='M 181.5,137.7 L 225.2,163.0' style='fill:none;fill-rule:evenodd;stroke:#FF0000;stroke-width:2.0px;stroke-linecap:butt;stroke-linejoin:miter;stroke-opacity:1' />\n",
              "<path d='M 132.6,115.5 L 137.8,112.5 L 140.0,113.8' style='fill:none;stroke:#000000;stroke-width:2.0px;stroke-linecap:butt;stroke-linejoin:miter;stroke-opacity:1;' />\n",
              "<path class='atom-2' d='M 229.2 172.8\n",
              "Q 229.2 166.0, 232.6 162.2\n",
              "Q 235.9 158.4, 242.2 158.4\n",
              "Q 248.5 158.4, 251.8 162.2\n",
              "Q 255.2 166.0, 255.2 172.8\n",
              "Q 255.2 179.7, 251.8 183.6\n",
              "Q 248.4 187.5, 242.2 187.5\n",
              "Q 236.0 187.5, 232.6 183.6\n",
              "Q 229.2 179.8, 229.2 172.8\n",
              "M 242.2 184.3\n",
              "Q 246.5 184.3, 248.8 181.4\n",
              "Q 251.2 178.5, 251.2 172.8\n",
              "Q 251.2 167.3, 248.8 164.5\n",
              "Q 246.5 161.6, 242.2 161.6\n",
              "Q 237.9 161.6, 235.5 164.4\n",
              "Q 233.2 167.2, 233.2 172.8\n",
              "Q 233.2 178.6, 235.5 181.4\n",
              "Q 237.9 184.3, 242.2 184.3\n",
              "' fill='#FF0000'/>\n",
              "<path class='atom-2' d='M 259.6 158.8\n",
              "L 263.5 158.8\n",
              "L 263.5 170.8\n",
              "L 277.9 170.8\n",
              "L 277.9 158.8\n",
              "L 281.8 158.8\n",
              "L 281.8 187.1\n",
              "L 277.9 187.1\n",
              "L 277.9 174.0\n",
              "L 263.5 174.0\n",
              "L 263.5 187.1\n",
              "L 259.6 187.1\n",
              "L 259.6 158.8\n",
              "' fill='#FF0000'/>\n",
              "<path class='note' d='M 23.4 162.7\n",
              "Q 20.8 162.7, 19.5 160.8\n",
              "Q 18.2 158.8, 18.2 155.4\n",
              "Q 18.2 152.0, 19.5 150.1\n",
              "Q 20.8 148.2, 23.4 148.2\n",
              "Q 26.0 148.2, 27.3 150.1\n",
              "Q 28.6 152.0, 28.6 155.4\n",
              "Q 28.6 158.8, 27.3 160.8\n",
              "Q 26.0 162.7, 23.4 162.7\n",
              "M 23.4 161.1\n",
              "Q 24.9 161.1, 25.8 159.7\n",
              "Q 26.6 158.2, 26.6 155.4\n",
              "Q 26.6 152.6, 25.8 151.2\n",
              "Q 24.9 149.8, 23.4 149.8\n",
              "Q 21.9 149.8, 21.0 151.2\n",
              "Q 20.2 152.6, 20.2 155.4\n",
              "Q 20.2 158.2, 21.0 159.7\n",
              "Q 21.9 161.1, 23.4 161.1\n",
              "' fill='#000000'/>\n",
              "<path class='note' d='M 134.3 97.9\n",
              "L 137.4 97.9\n",
              "L 137.4 87.3\n",
              "L 134.0 88.4\n",
              "L 133.6 87.2\n",
              "L 137.9 85.3\n",
              "L 139.3 85.5\n",
              "L 139.3 97.9\n",
              "L 142.1 97.9\n",
              "L 142.1 99.5\n",
              "L 134.3 99.5\n",
              "L 134.3 97.9\n",
              "' fill='#000000'/>\n",
              "<path class='note' d='M 257.6 203.2\n",
              "Q 258.1 201.9, 259.3 201.2\n",
              "Q 260.6 200.4, 262.3 200.4\n",
              "Q 264.4 200.4, 265.6 201.6\n",
              "Q 266.8 202.7, 266.8 204.8\n",
              "Q 266.8 206.9, 265.3 208.8\n",
              "Q 263.7 210.8, 260.5 213.1\n",
              "L 267.1 213.1\n",
              "L 267.1 214.7\n",
              "L 257.5 214.7\n",
              "L 257.5 213.4\n",
              "Q 260.2 211.5, 261.7 210.1\n",
              "Q 263.3 208.7, 264.1 207.4\n",
              "Q 264.8 206.2, 264.8 204.9\n",
              "Q 264.8 203.5, 264.1 202.8\n",
              "Q 263.5 202.0, 262.3 202.0\n",
              "Q 261.1 202.0, 260.4 202.5\n",
              "Q 259.6 202.9, 259.1 203.9\n",
              "L 257.6 203.2\n",
              "' fill='#000000'/>\n",
              "</svg>\n"
            ],
            "image/svg+xml": "<?xml version='1.0' encoding='iso-8859-1'?>\n<svg version='1.1' baseProfile='full'\n              xmlns='http://www.w3.org/2000/svg'\n                      xmlns:rdkit='http://www.rdkit.org/xml'\n                      xmlns:xlink='http://www.w3.org/1999/xlink'\n                  xml:space='preserve'\nwidth='300px' height='300px' viewBox='0 0 300 300'>\n<!-- END OF HEADER -->\n<rect style='opacity:1.0;fill:#FFFFFF;stroke:none' width='300.0' height='300.0' x='0.0' y='0.0'> </rect>\n<path class='bond-0 atom-0 atom-1' d='M 33.5,172.8 L 137.8,112.5' style='fill:none;fill-rule:evenodd;stroke:#000000;stroke-width:2.0px;stroke-linecap:butt;stroke-linejoin:miter;stroke-opacity:1' />\n<path class='bond-1 atom-1 atom-2' d='M 137.8,112.5 L 181.5,137.7' style='fill:none;fill-rule:evenodd;stroke:#000000;stroke-width:2.0px;stroke-linecap:butt;stroke-linejoin:miter;stroke-opacity:1' />\n<path class='bond-1 atom-1 atom-2' d='M 181.5,137.7 L 225.2,163.0' style='fill:none;fill-rule:evenodd;stroke:#FF0000;stroke-width:2.0px;stroke-linecap:butt;stroke-linejoin:miter;stroke-opacity:1' />\n<path d='M 132.6,115.5 L 137.8,112.5 L 140.0,113.8' style='fill:none;stroke:#000000;stroke-width:2.0px;stroke-linecap:butt;stroke-linejoin:miter;stroke-opacity:1;' />\n<path class='atom-2' d='M 229.2 172.8\nQ 229.2 166.0, 232.6 162.2\nQ 235.9 158.4, 242.2 158.4\nQ 248.5 158.4, 251.8 162.2\nQ 255.2 166.0, 255.2 172.8\nQ 255.2 179.7, 251.8 183.6\nQ 248.4 187.5, 242.2 187.5\nQ 236.0 187.5, 232.6 183.6\nQ 229.2 179.8, 229.2 172.8\nM 242.2 184.3\nQ 246.5 184.3, 248.8 181.4\nQ 251.2 178.5, 251.2 172.8\nQ 251.2 167.3, 248.8 164.5\nQ 246.5 161.6, 242.2 161.6\nQ 237.9 161.6, 235.5 164.4\nQ 233.2 167.2, 233.2 172.8\nQ 233.2 178.6, 235.5 181.4\nQ 237.9 184.3, 242.2 184.3\n' fill='#FF0000'/>\n<path class='atom-2' d='M 259.6 158.8\nL 263.5 158.8\nL 263.5 170.8\nL 277.9 170.8\nL 277.9 158.8\nL 281.8 158.8\nL 281.8 187.1\nL 277.9 187.1\nL 277.9 174.0\nL 263.5 174.0\nL 263.5 187.1\nL 259.6 187.1\nL 259.6 158.8\n' fill='#FF0000'/>\n<path class='note' d='M 23.4 162.7\nQ 20.8 162.7, 19.5 160.8\nQ 18.2 158.8, 18.2 155.4\nQ 18.2 152.0, 19.5 150.1\nQ 20.8 148.2, 23.4 148.2\nQ 26.0 148.2, 27.3 150.1\nQ 28.6 152.0, 28.6 155.4\nQ 28.6 158.8, 27.3 160.8\nQ 26.0 162.7, 23.4 162.7\nM 23.4 161.1\nQ 24.9 161.1, 25.8 159.7\nQ 26.6 158.2, 26.6 155.4\nQ 26.6 152.6, 25.8 151.2\nQ 24.9 149.8, 23.4 149.8\nQ 21.9 149.8, 21.0 151.2\nQ 20.2 152.6, 20.2 155.4\nQ 20.2 158.2, 21.0 159.7\nQ 21.9 161.1, 23.4 161.1\n' fill='#000000'/>\n<path class='note' d='M 134.3 97.9\nL 137.4 97.9\nL 137.4 87.3\nL 134.0 88.4\nL 133.6 87.2\nL 137.9 85.3\nL 139.3 85.5\nL 139.3 97.9\nL 142.1 97.9\nL 142.1 99.5\nL 134.3 99.5\nL 134.3 97.9\n' fill='#000000'/>\n<path class='note' d='M 257.6 203.2\nQ 258.1 201.9, 259.3 201.2\nQ 260.6 200.4, 262.3 200.4\nQ 264.4 200.4, 265.6 201.6\nQ 266.8 202.7, 266.8 204.8\nQ 266.8 206.9, 265.3 208.8\nQ 263.7 210.8, 260.5 213.1\nL 267.1 213.1\nL 267.1 214.7\nL 257.5 214.7\nL 257.5 213.4\nQ 260.2 211.5, 261.7 210.1\nQ 263.3 208.7, 264.1 207.4\nQ 264.8 206.2, 264.8 204.9\nQ 264.8 203.5, 264.1 202.8\nQ 263.5 202.0, 262.3 202.0\nQ 261.1 202.0, 260.4 202.5\nQ 259.6 202.9, 259.1 203.9\nL 257.6 203.2\n' fill='#000000'/>\n</svg>\n",
            "image/png": "[encoded data removed]"
          },
          "metadata": {},
          "execution_count": 27
        }
      ]
    },
    {
      "cell_type": "code",
      "source": [
        "toluene_smiles = 'CC1=CC=CC=C1'\n",
        "mol2 = Chem.MolFromSmiles(toluene_smiles)\n",
        "mol2"
      ],
      "metadata": {
        "colab": {
          "base_uri": "https://localhost:8080/",
          "height": 321
        },
        "id": "bpvCsQDAAzNW",
        "outputId": "fbc6b709-1b83-459b-eab6-a4d08bca6d1a"
      },
      "execution_count": 28,
      "outputs": [
        {
          "output_type": "execute_result",
          "data": {
            "text/plain": [
              "<rdkit.Chem.rdchem.Mol at 0x7f24b7b0ce90>"
            ],
            "text/html": [
              "<?xml version='1.0' encoding='iso-8859-1'?>\n",
              "<svg version='1.1' baseProfile='full'\n",
              "              xmlns='http://www.w3.org/2000/svg'\n",
              "                      xmlns:rdkit='http://www.rdkit.org/xml'\n",
              "                      xmlns:xlink='http://www.w3.org/1999/xlink'\n",
              "                  xml:space='preserve'\n",
              "width='300px' height='300px' viewBox='0 0 300 300'>\n",
              "<!-- END OF HEADER -->\n",
              "<rect style='opacity:1.0;fill:#FFFFFF;stroke:none' width='300.0' height='300.0' x='0.0' y='0.0'> </rect>\n",
              "<path class='bond-0 atom-0 atom-1' d='M 282.0,149.9 L 198.7,149.9' style='fill:none;fill-rule:evenodd;stroke:#000000;stroke-width:2.0px;stroke-linecap:butt;stroke-linejoin:miter;stroke-opacity:1' />\n",
              "<path class='bond-1 atom-1 atom-2' d='M 198.7,149.9 L 157.1,222.1' style='fill:none;fill-rule:evenodd;stroke:#000000;stroke-width:2.0px;stroke-linecap:butt;stroke-linejoin:miter;stroke-opacity:1' />\n",
              "<path class='bond-1 atom-1 atom-2' d='M 184.3,149.9 L 149.8,209.6' style='fill:none;fill-rule:evenodd;stroke:#000000;stroke-width:2.0px;stroke-linecap:butt;stroke-linejoin:miter;stroke-opacity:1' />\n",
              "<path class='bond-2 atom-2 atom-3' d='M 157.1,222.1 L 73.7,222.1' style='fill:none;fill-rule:evenodd;stroke:#000000;stroke-width:2.0px;stroke-linecap:butt;stroke-linejoin:miter;stroke-opacity:1' />\n",
              "<path class='bond-3 atom-3 atom-4' d='M 73.7,222.1 L 32.1,149.9' style='fill:none;fill-rule:evenodd;stroke:#000000;stroke-width:2.0px;stroke-linecap:butt;stroke-linejoin:miter;stroke-opacity:1' />\n",
              "<path class='bond-3 atom-3 atom-4' d='M 80.9,209.6 L 46.5,149.9' style='fill:none;fill-rule:evenodd;stroke:#000000;stroke-width:2.0px;stroke-linecap:butt;stroke-linejoin:miter;stroke-opacity:1' />\n",
              "<path class='bond-4 atom-4 atom-5' d='M 32.1,149.9 L 73.7,77.8' style='fill:none;fill-rule:evenodd;stroke:#000000;stroke-width:2.0px;stroke-linecap:butt;stroke-linejoin:miter;stroke-opacity:1' />\n",
              "<path class='bond-5 atom-5 atom-6' d='M 73.7,77.8 L 157.1,77.8' style='fill:none;fill-rule:evenodd;stroke:#000000;stroke-width:2.0px;stroke-linecap:butt;stroke-linejoin:miter;stroke-opacity:1' />\n",
              "<path class='bond-5 atom-5 atom-6' d='M 80.9,90.3 L 149.8,90.3' style='fill:none;fill-rule:evenodd;stroke:#000000;stroke-width:2.0px;stroke-linecap:butt;stroke-linejoin:miter;stroke-opacity:1' />\n",
              "<path class='bond-6 atom-6 atom-1' d='M 157.1,77.8 L 198.7,149.9' style='fill:none;fill-rule:evenodd;stroke:#000000;stroke-width:2.0px;stroke-linecap:butt;stroke-linejoin:miter;stroke-opacity:1' />\n",
              "<path d='M 159.1,218.5 L 157.1,222.1 L 152.9,222.1' style='fill:none;stroke:#000000;stroke-width:2.0px;stroke-linecap:butt;stroke-linejoin:miter;stroke-opacity:1;' />\n",
              "<path d='M 77.9,222.1 L 73.7,222.1 L 71.6,218.5' style='fill:none;stroke:#000000;stroke-width:2.0px;stroke-linecap:butt;stroke-linejoin:miter;stroke-opacity:1;' />\n",
              "<path d='M 34.1,153.5 L 32.1,149.9 L 34.1,146.3' style='fill:none;stroke:#000000;stroke-width:2.0px;stroke-linecap:butt;stroke-linejoin:miter;stroke-opacity:1;' />\n",
              "<path d='M 71.6,81.4 L 73.7,77.8 L 77.9,77.8' style='fill:none;stroke:#000000;stroke-width:2.0px;stroke-linecap:butt;stroke-linejoin:miter;stroke-opacity:1;' />\n",
              "<path d='M 152.9,77.8 L 157.1,77.8 L 159.1,81.4' style='fill:none;stroke:#000000;stroke-width:2.0px;stroke-linecap:butt;stroke-linejoin:miter;stroke-opacity:1;' />\n",
              "<path class='note' d='M 282.0 169.9\n",
              "Q 279.9 169.9, 278.8 168.3\n",
              "Q 277.7 166.7, 277.7 163.9\n",
              "Q 277.7 161.0, 278.8 159.4\n",
              "Q 279.9 157.8, 282.0 157.8\n",
              "Q 284.2 157.8, 285.3 159.4\n",
              "Q 286.4 161.0, 286.4 163.9\n",
              "Q 286.4 166.7, 285.3 168.3\n",
              "Q 284.2 169.9, 282.0 169.9\n",
              "M 282.0 168.6\n",
              "Q 283.3 168.6, 284.0 167.4\n",
              "Q 284.7 166.2, 284.7 163.9\n",
              "Q 284.7 161.5, 284.0 160.4\n",
              "Q 283.3 159.2, 282.0 159.2\n",
              "Q 280.8 159.2, 280.1 160.4\n",
              "Q 279.4 161.5, 279.4 163.9\n",
              "Q 279.4 166.2, 280.1 167.4\n",
              "Q 280.8 168.6, 282.0 168.6\n",
              "' fill='#000000'/>\n",
              "<path class='note' d='M 202.8 166.5\n",
              "L 205.3 166.5\n",
              "L 205.3 157.7\n",
              "L 202.5 158.6\n",
              "L 202.1 157.6\n",
              "L 205.7 156.0\n",
              "L 206.9 156.2\n",
              "L 206.9 166.5\n",
              "L 209.2 166.5\n",
              "L 209.2 167.9\n",
              "L 202.8 167.9\n",
              "L 202.8 166.5\n",
              "' fill='#000000'/>\n",
              "<path class='note' d='M 160.1 230.5\n",
              "Q 160.5 229.4, 161.5 228.8\n",
              "Q 162.6 228.1, 164.0 228.1\n",
              "Q 165.8 228.1, 166.8 229.1\n",
              "Q 167.8 230.1, 167.8 231.8\n",
              "Q 167.8 233.5, 166.5 235.2\n",
              "Q 165.2 236.8, 162.5 238.7\n",
              "L 168.0 238.7\n",
              "L 168.0 240.1\n",
              "L 160.0 240.1\n",
              "L 160.0 239.0\n",
              "Q 162.2 237.4, 163.5 236.2\n",
              "Q 164.8 235.1, 165.5 234.0\n",
              "Q 166.1 233.0, 166.1 231.9\n",
              "Q 166.1 230.7, 165.5 230.1\n",
              "Q 165.0 229.5, 164.0 229.5\n",
              "Q 163.0 229.5, 162.4 229.9\n",
              "Q 161.8 230.2, 161.3 231.1\n",
              "L 160.1 230.5\n",
              "' fill='#000000'/>\n",
              "<path class='note' d='M 68.5 233.9\n",
              "Q 69.6 234.2, 70.2 234.9\n",
              "Q 70.8 235.7, 70.8 236.8\n",
              "Q 70.8 237.8, 70.3 238.6\n",
              "Q 69.8 239.4, 68.8 239.8\n",
              "Q 67.9 240.2, 66.7 240.2\n",
              "Q 65.5 240.2, 64.5 239.8\n",
              "Q 63.6 239.4, 62.8 238.5\n",
              "L 63.8 237.5\n",
              "Q 64.5 238.3, 65.1 238.6\n",
              "Q 65.7 238.9, 66.7 238.9\n",
              "Q 67.8 238.9, 68.4 238.3\n",
              "Q 69.1 237.8, 69.1 236.8\n",
              "Q 69.1 235.6, 68.4 235.1\n",
              "Q 67.7 234.5, 66.3 234.5\n",
              "L 65.4 234.5\n",
              "L 65.4 233.3\n",
              "L 66.2 233.3\n",
              "Q 67.5 233.3, 68.2 232.8\n",
              "Q 68.8 232.2, 68.8 231.2\n",
              "Q 68.8 230.4, 68.3 229.9\n",
              "Q 67.7 229.5, 66.7 229.5\n",
              "Q 65.8 229.5, 65.1 229.8\n",
              "Q 64.5 230.2, 64.1 231.1\n",
              "L 62.9 230.4\n",
              "Q 63.3 229.5, 64.3 228.8\n",
              "Q 65.3 228.1, 66.7 228.1\n",
              "Q 68.5 228.1, 69.5 229.0\n",
              "Q 70.5 229.8, 70.5 231.2\n",
              "Q 70.5 232.1, 70.0 232.8\n",
              "Q 69.5 233.5, 68.5 233.9\n",
              "' fill='#000000'/>\n",
              "<path class='note' d='M 21.3 151.8\n",
              "L 22.7 151.8\n",
              "L 22.7 153.1\n",
              "L 21.3 153.1\n",
              "L 21.3 155.8\n",
              "L 19.7 155.8\n",
              "L 19.7 153.1\n",
              "L 13.6 153.1\n",
              "L 13.6 152.0\n",
              "L 18.8 144.0\n",
              "L 21.3 144.0\n",
              "L 21.3 151.8\n",
              "M 15.6 151.8\n",
              "L 19.7 151.8\n",
              "L 19.7 145.1\n",
              "L 15.6 151.8\n",
              "' fill='#000000'/>\n",
              "<path class='note' d='M 67.1 64.2\n",
              "Q 68.1 64.2, 69.0 64.7\n",
              "Q 69.8 65.1, 70.3 66.0\n",
              "Q 70.8 66.8, 70.8 67.9\n",
              "Q 70.8 69.1, 70.2 70.0\n",
              "Q 69.6 70.9, 68.6 71.3\n",
              "Q 67.7 71.8, 66.6 71.8\n",
              "Q 65.5 71.8, 64.5 71.4\n",
              "Q 63.5 71.0, 62.8 70.2\n",
              "L 63.8 69.2\n",
              "Q 64.3 69.8, 65.1 70.1\n",
              "Q 65.8 70.4, 66.6 70.4\n",
              "Q 67.7 70.4, 68.4 69.8\n",
              "Q 69.1 69.1, 69.1 67.9\n",
              "Q 69.1 66.7, 68.4 66.1\n",
              "Q 67.7 65.5, 66.5 65.5\n",
              "Q 65.5 65.5, 64.3 65.9\n",
              "L 63.4 65.5\n",
              "L 64.0 59.8\n",
              "L 70.0 59.8\n",
              "L 69.9 61.2\n",
              "L 65.3 61.2\n",
              "L 65.0 64.7\n",
              "Q 66.0 64.2, 67.1 64.2\n",
              "' fill='#000000'/>\n",
              "<path class='note' d='M 164.5 64.3\n",
              "Q 165.6 64.3, 166.4 64.8\n",
              "Q 167.2 65.2, 167.6 66.0\n",
              "Q 168.1 66.9, 168.1 67.9\n",
              "Q 168.1 69.0, 167.6 69.9\n",
              "Q 167.1 70.8, 166.2 71.3\n",
              "Q 165.3 71.8, 164.1 71.8\n",
              "Q 162.0 71.8, 161.0 70.4\n",
              "Q 159.9 69.0, 159.9 66.1\n",
              "Q 159.9 63.0, 161.2 61.4\n",
              "Q 162.5 59.8, 165.0 59.8\n",
              "Q 165.8 59.8, 166.4 59.9\n",
              "Q 167.0 60.1, 167.6 60.4\n",
              "L 167.0 61.6\n",
              "Q 166.1 61.1, 165.1 61.1\n",
              "Q 163.4 61.1, 162.5 62.2\n",
              "Q 161.7 63.2, 161.6 65.5\n",
              "Q 162.2 64.9, 162.9 64.6\n",
              "Q 163.7 64.3, 164.5 64.3\n",
              "M 164.1 70.5\n",
              "Q 164.8 70.5, 165.3 70.1\n",
              "Q 165.8 69.8, 166.1 69.2\n",
              "Q 166.4 68.6, 166.4 67.9\n",
              "Q 166.4 66.9, 165.8 66.3\n",
              "Q 165.3 65.7, 164.2 65.7\n",
              "Q 163.5 65.7, 162.8 66.0\n",
              "Q 162.1 66.2, 161.6 66.7\n",
              "Q 161.7 68.7, 162.3 69.6\n",
              "Q 162.9 70.5, 164.1 70.5\n",
              "' fill='#000000'/>\n",
              "</svg>\n"
            ],
            "image/svg+xml": "<?xml version='1.0' encoding='iso-8859-1'?>\n<svg version='1.1' baseProfile='full'\n              xmlns='http://www.w3.org/2000/svg'\n                      xmlns:rdkit='http://www.rdkit.org/xml'\n                      xmlns:xlink='http://www.w3.org/1999/xlink'\n                  xml:space='preserve'\nwidth='300px' height='300px' viewBox='0 0 300 300'>\n<!-- END OF HEADER -->\n<rect style='opacity:1.0;fill:#FFFFFF;stroke:none' width='300.0' height='300.0' x='0.0' y='0.0'> </rect>\n<path class='bond-0 atom-0 atom-1' d='M 282.0,149.9 L 198.7,149.9' style='fill:none;fill-rule:evenodd;stroke:#000000;stroke-width:2.0px;stroke-linecap:butt;stroke-linejoin:miter;stroke-opacity:1' />\n<path class='bond-1 atom-1 atom-2' d='M 198.7,149.9 L 157.1,222.1' style='fill:none;fill-rule:evenodd;stroke:#000000;stroke-width:2.0px;stroke-linecap:butt;stroke-linejoin:miter;stroke-opacity:1' />\n<path class='bond-1 atom-1 atom-2' d='M 184.3,149.9 L 149.8,209.6' style='fill:none;fill-rule:evenodd;stroke:#000000;stroke-width:2.0px;stroke-linecap:butt;stroke-linejoin:miter;stroke-opacity:1' />\n<path class='bond-2 atom-2 atom-3' d='M 157.1,222.1 L 73.7,222.1' style='fill:none;fill-rule:evenodd;stroke:#000000;stroke-width:2.0px;stroke-linecap:butt;stroke-linejoin:miter;stroke-opacity:1' />\n<path class='bond-3 atom-3 atom-4' d='M 73.7,222.1 L 32.1,149.9' style='fill:none;fill-rule:evenodd;stroke:#000000;stroke-width:2.0px;stroke-linecap:butt;stroke-linejoin:miter;stroke-opacity:1' />\n<path class='bond-3 atom-3 atom-4' d='M 80.9,209.6 L 46.5,149.9' style='fill:none;fill-rule:evenodd;stroke:#000000;stroke-width:2.0px;stroke-linecap:butt;stroke-linejoin:miter;stroke-opacity:1' />\n<path class='bond-4 atom-4 atom-5' d='M 32.1,149.9 L 73.7,77.8' style='fill:none;fill-rule:evenodd;stroke:#000000;stroke-width:2.0px;stroke-linecap:butt;stroke-linejoin:miter;stroke-opacity:1' />\n<path class='bond-5 atom-5 atom-6' d='M 73.7,77.8 L 157.1,77.8' style='fill:none;fill-rule:evenodd;stroke:#000000;stroke-width:2.0px;stroke-linecap:butt;stroke-linejoin:miter;stroke-opacity:1' />\n<path class='bond-5 atom-5 atom-6' d='M 80.9,90.3 L 149.8,90.3' style='fill:none;fill-rule:evenodd;stroke:#000000;stroke-width:2.0px;stroke-linecap:butt;stroke-linejoin:miter;stroke-opacity:1' />\n<path class='bond-6 atom-6 atom-1' d='M 157.1,77.8 L 198.7,149.9' style='fill:none;fill-rule:evenodd;stroke:#000000;stroke-width:2.0px;stroke-linecap:butt;stroke-linejoin:miter;stroke-opacity:1' />\n<path d='M 159.1,218.5 L 157.1,222.1 L 152.9,222.1' style='fill:none;stroke:#000000;stroke-width:2.0px;stroke-linecap:butt;stroke-linejoin:miter;stroke-opacity:1;' />\n<path d='M 77.9,222.1 L 73.7,222.1 L 71.6,218.5' style='fill:none;stroke:#000000;stroke-width:2.0px;stroke-linecap:butt;stroke-linejoin:miter;stroke-opacity:1;' />\n<path d='M 34.1,153.5 L 32.1,149.9 L 34.1,146.3' style='fill:none;stroke:#000000;stroke-width:2.0px;stroke-linecap:butt;stroke-linejoin:miter;stroke-opacity:1;' />\n<path d='M 71.6,81.4 L 73.7,77.8 L 77.9,77.8' style='fill:none;stroke:#000000;stroke-width:2.0px;stroke-linecap:butt;stroke-linejoin:miter;stroke-opacity:1;' />\n<path d='M 152.9,77.8 L 157.1,77.8 L 159.1,81.4' style='fill:none;stroke:#000000;stroke-width:2.0px;stroke-linecap:butt;stroke-linejoin:miter;stroke-opacity:1;' />\n<path class='note' d='M 282.0 169.9\nQ 279.9 169.9, 278.8 168.3\nQ 277.7 166.7, 277.7 163.9\nQ 277.7 161.0, 278.8 159.4\nQ 279.9 157.8, 282.0 157.8\nQ 284.2 157.8, 285.3 159.4\nQ 286.4 161.0, 286.4 163.9\nQ 286.4 166.7, 285.3 168.3\nQ 284.2 169.9, 282.0 169.9\nM 282.0 168.6\nQ 283.3 168.6, 284.0 167.4\nQ 284.7 166.2, 284.7 163.9\nQ 284.7 161.5, 284.0 160.4\nQ 283.3 159.2, 282.0 159.2\nQ 280.8 159.2, 280.1 160.4\nQ 279.4 161.5, 279.4 163.9\nQ 279.4 166.2, 280.1 167.4\nQ 280.8 168.6, 282.0 168.6\n' fill='#000000'/>\n<path class='note' d='M 202.8 166.5\nL 205.3 166.5\nL 205.3 157.7\nL 202.5 158.6\nL 202.1 157.6\nL 205.7 156.0\nL 206.9 156.2\nL 206.9 166.5\nL 209.2 166.5\nL 209.2 167.9\nL 202.8 167.9\nL 202.8 166.5\n' fill='#000000'/>\n<path class='note' d='M 160.1 230.5\nQ 160.5 229.4, 161.5 228.8\nQ 162.6 228.1, 164.0 228.1\nQ 165.8 228.1, 166.8 229.1\nQ 167.8 230.1, 167.8 231.8\nQ 167.8 233.5, 166.5 235.2\nQ 165.2 236.8, 162.5 238.7\nL 168.0 238.7\nL 168.0 240.1\nL 160.0 240.1\nL 160.0 239.0\nQ 162.2 237.4, 163.5 236.2\nQ 164.8 235.1, 165.5 234.0\nQ 166.1 233.0, 166.1 231.9\nQ 166.1 230.7, 165.5 230.1\nQ 165.0 229.5, 164.0 229.5\nQ 163.0 229.5, 162.4 229.9\nQ 161.8 230.2, 161.3 231.1\nL 160.1 230.5\n' fill='#000000'/>\n<path class='note' d='M 68.5 233.9\nQ 69.6 234.2, 70.2 234.9\nQ 70.8 235.7, 70.8 236.8\nQ 70.8 237.8, 70.3 238.6\nQ 69.8 239.4, 68.8 239.8\nQ 67.9 240.2, 66.7 240.2\nQ 65.5 240.2, 64.5 239.8\nQ 63.6 239.4, 62.8 238.5\nL 63.8 237.5\nQ 64.5 238.3, 65.1 238.6\nQ 65.7 238.9, 66.7 238.9\nQ 67.8 238.9, 68.4 238.3\nQ 69.1 237.8, 69.1 236.8\nQ 69.1 235.6, 68.4 235.1\nQ 67.7 234.5, 66.3 234.5\nL 65.4 234.5\nL 65.4 233.3\nL 66.2 233.3\nQ 67.5 233.3, 68.2 232.8\nQ 68.8 232.2, 68.8 231.2\nQ 68.8 230.4, 68.3 229.9\nQ 67.7 229.5, 66.7 229.5\nQ 65.8 229.5, 65.1 229.8\nQ 64.5 230.2, 64.1 231.1\nL 62.9 230.4\nQ 63.3 229.5, 64.3 228.8\nQ 65.3 228.1, 66.7 228.1\nQ 68.5 228.1, 69.5 229.0\nQ 70.5 229.8, 70.5 231.2\nQ 70.5 232.1, 70.0 232.8\nQ 69.5 233.5, 68.5 233.9\n' fill='#000000'/>\n<path class='note' d='M 21.3 151.8\nL 22.7 151.8\nL 22.7 153.1\nL 21.3 153.1\nL 21.3 155.8\nL 19.7 155.8\nL 19.7 153.1\nL 13.6 153.1\nL 13.6 152.0\nL 18.8 144.0\nL 21.3 144.0\nL 21.3 151.8\nM 15.6 151.8\nL 19.7 151.8\nL 19.7 145.1\nL 15.6 151.8\n' fill='#000000'/>\n<path class='note' d='M 67.1 64.2\nQ 68.1 64.2, 69.0 64.7\nQ 69.8 65.1, 70.3 66.0\nQ 70.8 66.8, 70.8 67.9\nQ 70.8 69.1, 70.2 70.0\nQ 69.6 70.9, 68.6 71.3\nQ 67.7 71.8, 66.6 71.8\nQ 65.5 71.8, 64.5 71.4\nQ 63.5 71.0, 62.8 70.2\nL 63.8 69.2\nQ 64.3 69.8, 65.1 70.1\nQ 65.8 70.4, 66.6 70.4\nQ 67.7 70.4, 68.4 69.8\nQ 69.1 69.1, 69.1 67.9\nQ 69.1 66.7, 68.4 66.1\nQ 67.7 65.5, 66.5 65.5\nQ 65.5 65.5, 64.3 65.9\nL 63.4 65.5\nL 64.0 59.8\nL 70.0 59.8\nL 69.9 61.2\nL 65.3 61.2\nL 65.0 64.7\nQ 66.0 64.2, 67.1 64.2\n' fill='#000000'/>\n<path class='note' d='M 164.5 64.3\nQ 165.6 64.3, 166.4 64.8\nQ 167.2 65.2, 167.6 66.0\nQ 168.1 66.9, 168.1 67.9\nQ 168.1 69.0, 167.6 69.9\nQ 167.1 70.8, 166.2 71.3\nQ 165.3 71.8, 164.1 71.8\nQ 162.0 71.8, 161.0 70.4\nQ 159.9 69.0, 159.9 66.1\nQ 159.9 63.0, 161.2 61.4\nQ 162.5 59.8, 165.0 59.8\nQ 165.8 59.8, 166.4 59.9\nQ 167.0 60.1, 167.6 60.4\nL 167.0 61.6\nQ 166.1 61.1, 165.1 61.1\nQ 163.4 61.1, 162.5 62.2\nQ 161.7 63.2, 161.6 65.5\nQ 162.2 64.9, 162.9 64.6\nQ 163.7 64.3, 164.5 64.3\nM 164.1 70.5\nQ 164.8 70.5, 165.3 70.1\nQ 165.8 69.8, 166.1 69.2\nQ 166.4 68.6, 166.4 67.9\nQ 166.4 66.9, 165.8 66.3\nQ 165.3 65.7, 164.2 65.7\nQ 163.5 65.7, 162.8 66.0\nQ 162.1 66.2, 161.6 66.7\nQ 161.7 68.7, 162.3 69.6\nQ 162.9 70.5, 164.1 70.5\n' fill='#000000'/>\n</svg>\n",
            "image/png": "[encoded data removed]"
          },
          "metadata": {},
          "execution_count": 28
        }
      ]
    },
    {
      "cell_type": "markdown",
      "source": [
        "We now give some background on how RDKit determines which atom gets chosen to be numbered 0, 1, 2 ... respectively. For a detailed explanation, a good source is *Molecular representations in AI-driven drug discovery: a review and practical guide* (L. David, A. Thakkar, R. Mercado, O. Engkvist), which can be found at https://jcheminf.biomedcentral.com/articles/10.1186/s13321-020-00460-5 We summarize the key points. \n",
        "\n",
        "\n",
        "\n",
        "*   This choice is made using a Graph Traversal Algorithm. Common graph traversal algorithms are depth-first or breadth-first. \n",
        "*   These do not apply for multi-valent bonds. Hypergraphs offer a possible solution if we want to consider this scenario. (See https://arxiv.org/abs/2203.08031)\n",
        "*   Hydrogens can be treated as nodes, but are most commonly treated as properties of the heavy atoms, to reduce the size of the encoded vector or matrix. This is the approach taken in the examples above. \n",
        "\n"
      ],
      "metadata": {
        "id": "fulNG5Er1p9l"
      }
    },
    {
      "cell_type": "markdown",
      "source": [
        "**Remarks on SMILES representations**\n",
        "\n",
        "* The SMILES representation is non-unique and unambiguous. \n",
        "* It is obtained by assigning a number to each atom and then traversing the molecule in the order given by such numbering. \n",
        "* RDKit by default uses a **depth-first** algorithm in this case. This can be verified in the two examples above, and also answers the question of why we obtain the same numbering from the two different methods we used. \n",
        "* Randomized SMILES representations exist and have applications (first atom selected at random, then follow a pre-defined traversal algorithm). We will not adopt this method for our purposes. "
      ],
      "metadata": {
        "id": "z2zM2towEvSO"
      }
    },
    {
      "cell_type": "markdown",
      "source": [
        "## Chemical Validy after an Action in the MDP"
      ],
      "metadata": {
        "id": "U8L4GsiVpTWi"
      }
    },
    {
      "cell_type": "markdown",
      "source": [
        "### A bond addition example"
      ],
      "metadata": {
        "id": "Ewk9JTkTJ5kb"
      }
    },
    {
      "cell_type": "markdown",
      "source": [
        "An example from the RDKit documentation (https://www.rdkit.org/docs/Cookbook.html#organometallics-with-dative-bonds):\n",
        "\n",
        "Author: Greg Landrum\n",
        "\n",
        "Source: https://sourceforge.net/p/rdkit/mailman/message/36727044/ and https://gist.github.com/greglandrum/6cd7aadcdedb1ebcafa9537e8a47e3a4\n",
        "\n",
        "Index ID#: RDKitCB_19\n",
        "\n",
        "Summary: Process organometallic SMILES by detecting single bonds between metals and replacing with dative bonds."
      ],
      "metadata": {
        "id": "V55lvNohNhvB"
      }
    },
    {
      "cell_type": "code",
      "source": [
        "def is_transition_metal(at):\n",
        "    n = at.GetAtomicNum()\n",
        "    return (n>=22 and n<=29) or (n>=40 and n<=47) or (n>=72 and n<=79)"
      ],
      "metadata": {
        "id": "-InMl_DVQVsF"
      },
      "execution_count": 43,
      "outputs": []
    },
    {
      "cell_type": "code",
      "source": [
        "def set_dative_bonds(mol, fromAtoms=(7,8)):\n",
        "    \"\"\" convert some bonds to dative\n",
        "\n",
        "    Replaces some single bonds between metals and atoms with atomic numbers in fomAtoms\n",
        "    with dative bonds. The replacement is only done if the atom has \"too many\" bonds.\n",
        "\n",
        "    Returns the modified molecule.\n",
        "\n",
        "    \"\"\"\n",
        "    pt = Chem.GetPeriodicTable()\n",
        "    rwmol = Chem.RWMol(mol)\n",
        "    rwmol.UpdatePropertyCache(strict=False)\n",
        "    metals = [at for at in rwmol.GetAtoms() if is_transition_metal(at)]\n",
        "    for metal in metals:\n",
        "        for nbr in metal.GetNeighbors():\n",
        "            if nbr.GetAtomicNum() in fromAtoms and \\\n",
        "               nbr.GetExplicitValence()>pt.GetDefaultValence(nbr.GetAtomicNum()) and \\\n",
        "               rwmol.GetBondBetweenAtoms(nbr.GetIdx(),metal.GetIdx()).GetBondType() == Chem.BondType.SINGLE:\n",
        "                rwmol.RemoveBond(nbr.GetIdx(),metal.GetIdx())\n",
        "                rwmol.AddBond(nbr.GetIdx(),metal.GetIdx(),Chem.BondType.DATIVE)\n",
        "    return rwmol"
      ],
      "metadata": {
        "id": "45w1U9hj2Aao"
      },
      "execution_count": 42,
      "outputs": []
    },
    {
      "cell_type": "code",
      "source": [
        "m = Chem.MolFromSmiles('CN(C)(C)[Pt]', sanitize=False)\n",
        "m2 = set_dative_bonds(m)\n",
        "m2"
      ],
      "metadata": {
        "colab": {
          "base_uri": "https://localhost:8080/",
          "height": 0
        },
        "id": "Wifl7ZDTPSPw",
        "outputId": "357334b1-84af-4499-d157-f9274cc97dbb"
      },
      "execution_count": 40,
      "outputs": [
        {
          "output_type": "execute_result",
          "data": {
            "text/plain": [
              "<rdkit.Chem.rdchem.RWMol at 0x7fb9675391b0>"
            ],
            "text/html": [
              "<?xml version='1.0' encoding='iso-8859-1'?>\n",
              "<svg version='1.1' baseProfile='full'\n",
              "              xmlns='http://www.w3.org/2000/svg'\n",
              "                      xmlns:rdkit='http://www.rdkit.org/xml'\n",
              "                      xmlns:xlink='http://www.w3.org/1999/xlink'\n",
              "                  xml:space='preserve'\n",
              "width='300px' height='300px' viewBox='0 0 300 300'>\n",
              "<!-- END OF HEADER -->\n",
              "<rect style='opacity:1.0;fill:#FFFFFF;stroke:none' width='300.0' height='300.0' x='0.0' y='0.0'> </rect>\n",
              "<path class='bond-0 atom-0 atom-1' d='M 45.2,223.0 L 90.3,196.9' style='fill:none;fill-rule:evenodd;stroke:#000000;stroke-width:2.0px;stroke-linecap:butt;stroke-linejoin:miter;stroke-opacity:1' />\n",
              "<path class='bond-0 atom-0 atom-1' d='M 90.3,196.9 L 135.5,170.8' style='fill:none;fill-rule:evenodd;stroke:#0000FF;stroke-width:2.0px;stroke-linecap:butt;stroke-linejoin:miter;stroke-opacity:1' />\n",
              "<path class='bond-1 atom-1 atom-2' d='M 164.9,153.8 L 210.1,127.7' style='fill:none;fill-rule:evenodd;stroke:#0000FF;stroke-width:2.0px;stroke-linecap:butt;stroke-linejoin:miter;stroke-opacity:1' />\n",
              "<path class='bond-1 atom-1 atom-2' d='M 210.1,127.7 L 255.2,101.7' style='fill:none;fill-rule:evenodd;stroke:#000000;stroke-width:2.0px;stroke-linecap:butt;stroke-linejoin:miter;stroke-opacity:1' />\n",
              "<path class='bond-2 atom-1 atom-3' d='M 160.7,180.5 L 185.8,223.9' style='fill:none;fill-rule:evenodd;stroke:#0000FF;stroke-width:2.0px;stroke-linecap:butt;stroke-linejoin:miter;stroke-opacity:1' />\n",
              "<path class='bond-2 atom-1 atom-3' d='M 185.8,223.9 L 210.9,267.4' style='fill:none;fill-rule:evenodd;stroke:#000000;stroke-width:2.0px;stroke-linecap:butt;stroke-linejoin:miter;stroke-opacity:1' />\n",
              "<path class='bond-3 atom-1 atom-4' d='M 139.7,144.2 L 120.0,109.9' style='fill:none;fill-rule:evenodd;stroke:#0000FF;stroke-width:2.0px;stroke-linecap:butt;stroke-linejoin:miter;stroke-opacity:1' />\n",
              "<path class='bond-3 atom-1 atom-4' d='M 120.0,109.9 L 100.2,75.7' style='fill:none;fill-rule:evenodd;stroke:#000000;stroke-width:2.0px;stroke-linecap:butt;stroke-linejoin:miter;stroke-opacity:1' />\n",
              "<path class='bond-3 atom-1 atom-4' d='M 107.0,79.6 L 100.2,75.7 L 100.2,83.6 Z' style='fill:#000000;fill-rule:evenodd;fill-opacity:1;stroke:#000000;stroke-width:2.0px;stroke-linecap:butt;stroke-linejoin:miter;stroke-opacity:1;' />\n",
              "<path class='atom-1' d='M 143.9 148.2\n",
              "L 153.2 163.2\n",
              "Q 154.1 164.6, 155.6 167.3\n",
              "Q 157.1 170.0, 157.2 170.2\n",
              "L 157.2 148.2\n",
              "L 160.9 148.2\n",
              "L 160.9 176.5\n",
              "L 157.1 176.5\n",
              "L 147.1 160.1\n",
              "Q 145.9 158.2, 144.7 156.0\n",
              "Q 143.5 153.8, 143.1 153.1\n",
              "L 143.1 176.5\n",
              "L 139.5 176.5\n",
              "L 139.5 148.2\n",
              "L 143.9 148.2\n",
              "' fill='#0000FF'/>\n",
              "<path class='atom-4' d='M 69.4 43.1\n",
              "Q 74.2 43.1, 76.7 45.3\n",
              "Q 79.1 47.5, 79.1 51.4\n",
              "Q 79.1 55.3, 76.6 57.6\n",
              "Q 74.1 59.8, 69.4 59.8\n",
              "L 64.9 59.8\n",
              "L 64.9 71.4\n",
              "L 61.0 71.4\n",
              "L 61.0 43.1\n",
              "L 69.4 43.1\n",
              "M 69.4 56.6\n",
              "Q 72.1 56.6, 73.6 55.3\n",
              "Q 75.1 53.9, 75.1 51.4\n",
              "Q 75.1 48.9, 73.6 47.6\n",
              "Q 72.2 46.3, 69.4 46.3\n",
              "L 64.9 46.3\n",
              "L 64.9 56.6\n",
              "L 69.4 56.6\n",
              "' fill='#000000'/>\n",
              "<path class='atom-4' d='M 82.6 53.7\n",
              "L 82.6 50.9\n",
              "L 86.5 50.9\n",
              "L 87.1 44.9\n",
              "L 89.9 44.9\n",
              "L 89.9 50.9\n",
              "L 96.2 50.9\n",
              "L 96.2 53.7\n",
              "L 89.9 53.7\n",
              "L 89.9 65.1\n",
              "Q 89.9 68.7, 92.9 68.7\n",
              "Q 94.1 68.7, 95.9 68.1\n",
              "L 96.5 70.7\n",
              "Q 94.3 71.7, 92.3 71.7\n",
              "Q 89.6 71.7, 87.9 70.1\n",
              "Q 86.2 68.5, 86.2 65.3\n",
              "L 86.2 53.7\n",
              "L 82.6 53.7\n",
              "' fill='#000000'/>\n",
              "<path class='note' d='M 35.1 212.8\n",
              "Q 32.5 212.8, 31.2 210.9\n",
              "Q 29.9 208.9, 29.9 205.5\n",
              "Q 29.9 202.1, 31.2 200.2\n",
              "Q 32.4 198.3, 35.1 198.3\n",
              "Q 37.7 198.3, 39.0 200.2\n",
              "Q 40.2 202.1, 40.2 205.5\n",
              "Q 40.2 208.9, 38.9 210.9\n",
              "Q 37.7 212.8, 35.1 212.8\n",
              "M 35.1 211.2\n",
              "Q 36.6 211.2, 37.4 209.8\n",
              "Q 38.2 208.3, 38.2 205.5\n",
              "Q 38.2 202.7, 37.4 201.3\n",
              "Q 36.6 199.9, 35.1 199.9\n",
              "Q 33.5 199.9, 32.7 201.3\n",
              "Q 31.9 202.7, 31.9 205.5\n",
              "Q 31.9 208.3, 32.7 209.8\n",
              "Q 33.5 211.2, 35.1 211.2\n",
              "' fill='#000000'/>\n",
              "<path class='note' d='M 136.3 206.9\n",
              "L 139.4 206.9\n",
              "L 139.4 196.3\n",
              "L 135.9 197.4\n",
              "L 135.5 196.2\n",
              "L 139.8 194.2\n",
              "L 141.2 194.5\n",
              "L 141.2 206.9\n",
              "L 144.0 206.9\n",
              "L 144.0 208.5\n",
              "L 136.3 208.5\n",
              "L 136.3 206.9\n",
              "' fill='#000000'/>\n",
              "<path class='note' d='M 260.6 114.9\n",
              "Q 261.1 113.5, 262.4 112.8\n",
              "Q 263.6 112.0, 265.3 112.0\n",
              "Q 267.5 112.0, 268.7 113.2\n",
              "Q 269.9 114.3, 269.9 116.4\n",
              "Q 269.9 118.5, 268.3 120.5\n",
              "Q 266.8 122.4, 263.6 124.7\n",
              "L 270.1 124.7\n",
              "L 270.1 126.3\n",
              "L 260.6 126.3\n",
              "L 260.6 125.0\n",
              "Q 263.2 123.1, 264.8 121.7\n",
              "Q 266.4 120.3, 267.1 119.1\n",
              "Q 267.9 117.8, 267.9 116.5\n",
              "Q 267.9 115.1, 267.2 114.4\n",
              "Q 266.5 113.6, 265.3 113.6\n",
              "Q 264.2 113.6, 263.4 114.1\n",
              "Q 262.7 114.5, 262.1 115.6\n",
              "L 260.6 114.9\n",
              "' fill='#000000'/>\n",
              "<path class='note' d='M 195.4 277.2\n",
              "Q 196.8 277.6, 197.4 278.5\n",
              "Q 198.1 279.3, 198.1 280.7\n",
              "Q 198.1 281.9, 197.5 282.9\n",
              "Q 196.9 283.8, 195.8 284.3\n",
              "Q 194.7 284.8, 193.3 284.8\n",
              "Q 191.7 284.8, 190.6 284.3\n",
              "Q 189.5 283.8, 188.6 282.7\n",
              "L 189.7 281.5\n",
              "Q 190.6 282.5, 191.3 282.9\n",
              "Q 192.1 283.2, 193.3 283.2\n",
              "Q 194.5 283.2, 195.3 282.5\n",
              "Q 196.1 281.8, 196.1 280.7\n",
              "Q 196.1 279.3, 195.3 278.6\n",
              "Q 194.5 278.0, 192.7 278.0\n",
              "L 191.7 278.0\n",
              "L 191.7 276.5\n",
              "L 192.6 276.5\n",
              "Q 194.2 276.5, 195.0 275.9\n",
              "Q 195.8 275.2, 195.8 273.9\n",
              "Q 195.8 273.0, 195.1 272.5\n",
              "Q 194.4 271.9, 193.3 271.9\n",
              "Q 192.1 271.9, 191.4 272.3\n",
              "Q 190.6 272.7, 190.1 273.8\n",
              "L 188.7 273.1\n",
              "Q 189.2 271.9, 190.4 271.1\n",
              "Q 191.6 270.3, 193.3 270.3\n",
              "Q 195.4 270.3, 196.6 271.3\n",
              "Q 197.8 272.3, 197.8 273.9\n",
              "Q 197.8 275.1, 197.2 275.9\n",
              "Q 196.6 276.7, 195.4 277.2\n",
              "' fill='#000000'/>\n",
              "<path class='note' d='M 73.1 24.5\n",
              "L 74.8 24.5\n",
              "L 74.8 26.1\n",
              "L 73.1 26.1\n",
              "L 73.1 29.3\n",
              "L 71.2 29.3\n",
              "L 71.2 26.1\n",
              "L 63.9 26.1\n",
              "L 63.9 24.8\n",
              "L 70.1 15.2\n",
              "L 73.1 15.2\n",
              "L 73.1 24.5\n",
              "M 66.2 24.5\n",
              "L 71.2 24.5\n",
              "L 71.2 16.5\n",
              "L 66.2 24.5\n",
              "' fill='#000000'/>\n",
              "</svg>\n"
            ],
            "image/svg+xml": "<?xml version='1.0' encoding='iso-8859-1'?>\n<svg version='1.1' baseProfile='full'\n              xmlns='http://www.w3.org/2000/svg'\n                      xmlns:rdkit='http://www.rdkit.org/xml'\n                      xmlns:xlink='http://www.w3.org/1999/xlink'\n                  xml:space='preserve'\nwidth='300px' height='300px' viewBox='0 0 300 300'>\n<!-- END OF HEADER -->\n<rect style='opacity:1.0;fill:#FFFFFF;stroke:none' width='300.0' height='300.0' x='0.0' y='0.0'> </rect>\n<path class='bond-0 atom-0 atom-1' d='M 45.2,223.0 L 90.3,196.9' style='fill:none;fill-rule:evenodd;stroke:#000000;stroke-width:2.0px;stroke-linecap:butt;stroke-linejoin:miter;stroke-opacity:1' />\n<path class='bond-0 atom-0 atom-1' d='M 90.3,196.9 L 135.5,170.8' style='fill:none;fill-rule:evenodd;stroke:#0000FF;stroke-width:2.0px;stroke-linecap:butt;stroke-linejoin:miter;stroke-opacity:1' />\n<path class='bond-1 atom-1 atom-2' d='M 164.9,153.8 L 210.1,127.7' style='fill:none;fill-rule:evenodd;stroke:#0000FF;stroke-width:2.0px;stroke-linecap:butt;stroke-linejoin:miter;stroke-opacity:1' />\n<path class='bond-1 atom-1 atom-2' d='M 210.1,127.7 L 255.2,101.7' style='fill:none;fill-rule:evenodd;stroke:#000000;stroke-width:2.0px;stroke-linecap:butt;stroke-linejoin:miter;stroke-opacity:1' />\n<path class='bond-2 atom-1 atom-3' d='M 160.7,180.5 L 185.8,223.9' style='fill:none;fill-rule:evenodd;stroke:#0000FF;stroke-width:2.0px;stroke-linecap:butt;stroke-linejoin:miter;stroke-opacity:1' />\n<path class='bond-2 atom-1 atom-3' d='M 185.8,223.9 L 210.9,267.4' style='fill:none;fill-rule:evenodd;stroke:#000000;stroke-width:2.0px;stroke-linecap:butt;stroke-linejoin:miter;stroke-opacity:1' />\n<path class='bond-3 atom-1 atom-4' d='M 139.7,144.2 L 120.0,109.9' style='fill:none;fill-rule:evenodd;stroke:#0000FF;stroke-width:2.0px;stroke-linecap:butt;stroke-linejoin:miter;stroke-opacity:1' />\n<path class='bond-3 atom-1 atom-4' d='M 120.0,109.9 L 100.2,75.7' style='fill:none;fill-rule:evenodd;stroke:#000000;stroke-width:2.0px;stroke-linecap:butt;stroke-linejoin:miter;stroke-opacity:1' />\n<path class='bond-3 atom-1 atom-4' d='M 107.0,79.6 L 100.2,75.7 L 100.2,83.6 Z' style='fill:#000000;fill-rule:evenodd;fill-opacity:1;stroke:#000000;stroke-width:2.0px;stroke-linecap:butt;stroke-linejoin:miter;stroke-opacity:1;' />\n<path class='atom-1' d='M 143.9 148.2\nL 153.2 163.2\nQ 154.1 164.6, 155.6 167.3\nQ 157.1 170.0, 157.2 170.2\nL 157.2 148.2\nL 160.9 148.2\nL 160.9 176.5\nL 157.1 176.5\nL 147.1 160.1\nQ 145.9 158.2, 144.7 156.0\nQ 143.5 153.8, 143.1 153.1\nL 143.1 176.5\nL 139.5 176.5\nL 139.5 148.2\nL 143.9 148.2\n' fill='#0000FF'/>\n<path class='atom-4' d='M 69.4 43.1\nQ 74.2 43.1, 76.7 45.3\nQ 79.1 47.5, 79.1 51.4\nQ 79.1 55.3, 76.6 57.6\nQ 74.1 59.8, 69.4 59.8\nL 64.9 59.8\nL 64.9 71.4\nL 61.0 71.4\nL 61.0 43.1\nL 69.4 43.1\nM 69.4 56.6\nQ 72.1 56.6, 73.6 55.3\nQ 75.1 53.9, 75.1 51.4\nQ 75.1 48.9, 73.6 47.6\nQ 72.2 46.3, 69.4 46.3\nL 64.9 46.3\nL 64.9 56.6\nL 69.4 56.6\n' fill='#000000'/>\n<path class='atom-4' d='M 82.6 53.7\nL 82.6 50.9\nL 86.5 50.9\nL 87.1 44.9\nL 89.9 44.9\nL 89.9 50.9\nL 96.2 50.9\nL 96.2 53.7\nL 89.9 53.7\nL 89.9 65.1\nQ 89.9 68.7, 92.9 68.7\nQ 94.1 68.7, 95.9 68.1\nL 96.5 70.7\nQ 94.3 71.7, 92.3 71.7\nQ 89.6 71.7, 87.9 70.1\nQ 86.2 68.5, 86.2 65.3\nL 86.2 53.7\nL 82.6 53.7\n' fill='#000000'/>\n<path class='note' d='M 35.1 212.8\nQ 32.5 212.8, 31.2 210.9\nQ 29.9 208.9, 29.9 205.5\nQ 29.9 202.1, 31.2 200.2\nQ 32.4 198.3, 35.1 198.3\nQ 37.7 198.3, 39.0 200.2\nQ 40.2 202.1, 40.2 205.5\nQ 40.2 208.9, 38.9 210.9\nQ 37.7 212.8, 35.1 212.8\nM 35.1 211.2\nQ 36.6 211.2, 37.4 209.8\nQ 38.2 208.3, 38.2 205.5\nQ 38.2 202.7, 37.4 201.3\nQ 36.6 199.9, 35.1 199.9\nQ 33.5 199.9, 32.7 201.3\nQ 31.9 202.7, 31.9 205.5\nQ 31.9 208.3, 32.7 209.8\nQ 33.5 211.2, 35.1 211.2\n' fill='#000000'/>\n<path class='note' d='M 136.3 206.9\nL 139.4 206.9\nL 139.4 196.3\nL 135.9 197.4\nL 135.5 196.2\nL 139.8 194.2\nL 141.2 194.5\nL 141.2 206.9\nL 144.0 206.9\nL 144.0 208.5\nL 136.3 208.5\nL 136.3 206.9\n' fill='#000000'/>\n<path class='note' d='M 260.6 114.9\nQ 261.1 113.5, 262.4 112.8\nQ 263.6 112.0, 265.3 112.0\nQ 267.5 112.0, 268.7 113.2\nQ 269.9 114.3, 269.9 116.4\nQ 269.9 118.5, 268.3 120.5\nQ 266.8 122.4, 263.6 124.7\nL 270.1 124.7\nL 270.1 126.3\nL 260.6 126.3\nL 260.6 125.0\nQ 263.2 123.1, 264.8 121.7\nQ 266.4 120.3, 267.1 119.1\nQ 267.9 117.8, 267.9 116.5\nQ 267.9 115.1, 267.2 114.4\nQ 266.5 113.6, 265.3 113.6\nQ 264.2 113.6, 263.4 114.1\nQ 262.7 114.5, 262.1 115.6\nL 260.6 114.9\n' fill='#000000'/>\n<path class='note' d='M 195.4 277.2\nQ 196.8 277.6, 197.4 278.5\nQ 198.1 279.3, 198.1 280.7\nQ 198.1 281.9, 197.5 282.9\nQ 196.9 283.8, 195.8 284.3\nQ 194.7 284.8, 193.3 284.8\nQ 191.7 284.8, 190.6 284.3\nQ 189.5 283.8, 188.6 282.7\nL 189.7 281.5\nQ 190.6 282.5, 191.3 282.9\nQ 192.1 283.2, 193.3 283.2\nQ 194.5 283.2, 195.3 282.5\nQ 196.1 281.8, 196.1 280.7\nQ 196.1 279.3, 195.3 278.6\nQ 194.5 278.0, 192.7 278.0\nL 191.7 278.0\nL 191.7 276.5\nL 192.6 276.5\nQ 194.2 276.5, 195.0 275.9\nQ 195.8 275.2, 195.8 273.9\nQ 195.8 273.0, 195.1 272.5\nQ 194.4 271.9, 193.3 271.9\nQ 192.1 271.9, 191.4 272.3\nQ 190.6 272.7, 190.1 273.8\nL 188.7 273.1\nQ 189.2 271.9, 190.4 271.1\nQ 191.6 270.3, 193.3 270.3\nQ 195.4 270.3, 196.6 271.3\nQ 197.8 272.3, 197.8 273.9\nQ 197.8 275.1, 197.2 275.9\nQ 196.6 276.7, 195.4 277.2\n' fill='#000000'/>\n<path class='note' d='M 73.1 24.5\nL 74.8 24.5\nL 74.8 26.1\nL 73.1 26.1\nL 73.1 29.3\nL 71.2 29.3\nL 71.2 26.1\nL 63.9 26.1\nL 63.9 24.8\nL 70.1 15.2\nL 73.1 15.2\nL 73.1 24.5\nM 66.2 24.5\nL 71.2 24.5\nL 71.2 16.5\nL 66.2 24.5\n' fill='#000000'/>\n</svg>\n",
            "image/png": "[encoded data removed]"
          },
          "metadata": {},
          "execution_count": 40
        }
      ]
    },
    {
      "cell_type": "code",
      "source": [
        "# we can check the bond between nitrogen and platinum\n",
        "print(m2.GetBondBetweenAtoms(1,4).GetBondType())"
      ],
      "metadata": {
        "colab": {
          "base_uri": "https://localhost:8080/"
        },
        "id": "YAoIeHkNPUs_",
        "outputId": "e161e885-c63d-4bfa-9390-462a63e0c52e"
      },
      "execution_count": 41,
      "outputs": [
        {
          "output_type": "stream",
          "name": "stdout",
          "text": [
            "DATIVE\n"
          ]
        }
      ]
    },
    {
      "cell_type": "markdown",
      "source": [
        "### The SanitizeMol function\n",
        "\n",
        "The SanitizeMol function (built into RDKit) allows us to check chemical validity of a molecule. Below are examples of how it can be used. More on https://www.programcreek.com/python/example/96360/rdkit.Chem.SanitizeMol "
      ],
      "metadata": {
        "id": "yOhCxTxTvfyh"
      }
    },
    {
      "cell_type": "code",
      "source": [
        "def validate_rdkit_mol(mol):\n",
        "    \"\"\"\n",
        "    Sanitizes an RDKit molecules and returns True if the molecule is chemically\n",
        "    valid.\n",
        "    :param mol: an RDKit molecule \n",
        "    :return: True if the molecule is chemically valid, False otherwise\n",
        "    \"\"\"\n",
        "\n",
        "    if len(GetMolFrags(mol)) > 1:\n",
        "        return False\n",
        "    try:\n",
        "        SanitizeMol(mol)\n",
        "        return True\n",
        "    except ValueError:\n",
        "        return False "
      ],
      "metadata": {
        "id": "MeALEZpdPY73"
      },
      "execution_count": 40,
      "outputs": []
    },
    {
      "cell_type": "code",
      "source": [
        "validate_rdkit_mol(mol1)"
      ],
      "metadata": {
        "colab": {
          "base_uri": "https://localhost:8080/"
        },
        "id": "lX348LLDwE_S",
        "outputId": "07c6de50-b014-4b39-f445-19593a8d3393"
      },
      "execution_count": 41,
      "outputs": [
        {
          "output_type": "execute_result",
          "data": {
            "text/plain": [
              "True"
            ]
          },
          "metadata": {},
          "execution_count": 41
        }
      ]
    },
    {
      "cell_type": "code",
      "source": [
        "GetMolFrags(mol2)"
      ],
      "metadata": {
        "colab": {
          "base_uri": "https://localhost:8080/"
        },
        "id": "cmuadewbJOKz",
        "outputId": "c1eb1015-9c24-4e22-890b-f38cc4d5e775"
      },
      "execution_count": 53,
      "outputs": [
        {
          "output_type": "execute_result",
          "data": {
            "text/plain": [
              "((0, 1, 2, 3, 4, 5, 6),)"
            ]
          },
          "metadata": {},
          "execution_count": 53
        }
      ]
    },
    {
      "cell_type": "markdown",
      "source": [
        "### Basic Operations"
      ],
      "metadata": {
        "id": "ZaLrJrSNMVzk"
      }
    },
    {
      "cell_type": "code",
      "source": [
        "mol2.GetNumAtoms() # gives number of non hydrogen atoms"
      ],
      "metadata": {
        "colab": {
          "base_uri": "https://localhost:8080/"
        },
        "id": "C3tDTUsbMfpH",
        "outputId": "cd9c76dd-bec6-4676-960a-0ed97eff8c62"
      },
      "execution_count": 64,
      "outputs": [
        {
          "output_type": "execute_result",
          "data": {
            "text/plain": [
              "7"
            ]
          },
          "metadata": {},
          "execution_count": 64
        }
      ]
    },
    {
      "cell_type": "code",
      "source": [
        "mol2.GetNumBonds() # gives number of bonds between atoms, not counting hydrogens"
      ],
      "metadata": {
        "colab": {
          "base_uri": "https://localhost:8080/"
        },
        "id": "n725x5AJMjuN",
        "outputId": "cbc918da-c519-4d8f-ab8c-0b3c1d3cae39"
      },
      "execution_count": 65,
      "outputs": [
        {
          "output_type": "execute_result",
          "data": {
            "text/plain": [
              "7"
            ]
          },
          "metadata": {},
          "execution_count": 65
        }
      ]
    },
    {
      "cell_type": "code",
      "source": [
        "my_list = mol2.GetAtoms()"
      ],
      "metadata": {
        "id": "L0SHcOvkMlwV"
      },
      "execution_count": 68,
      "outputs": []
    },
    {
      "cell_type": "code",
      "source": [
        "[atom.GetSymbol() for atom in mol2.GetAtoms()] # if not atom.IsInRing()]"
      ],
      "metadata": {
        "colab": {
          "base_uri": "https://localhost:8080/"
        },
        "id": "TfCZu3ypM9rW",
        "outputId": "91a0789a-44d8-4c00-dc5c-2205a5830fca"
      },
      "execution_count": 73,
      "outputs": [
        {
          "output_type": "execute_result",
          "data": {
            "text/plain": [
              "['C', 'C', 'C', 'C', 'C', 'C', 'C']"
            ]
          },
          "metadata": {},
          "execution_count": 73
        }
      ]
    },
    {
      "cell_type": "code",
      "source": [
        "[atom.GetSymbol() for atom in mol2.GetAtoms() if not atom.IsInRing()]"
      ],
      "metadata": {
        "colab": {
          "base_uri": "https://localhost:8080/"
        },
        "id": "a5sm4ZHvNEpE",
        "outputId": "380763e3-f6b2-4e75-e96a-4058405167c5"
      },
      "execution_count": 74,
      "outputs": [
        {
          "output_type": "execute_result",
          "data": {
            "text/plain": [
              "['C']"
            ]
          },
          "metadata": {},
          "execution_count": 74
        }
      ]
    },
    {
      "cell_type": "code",
      "source": [
        "mol2_with_hydrogens = Chem.AddHs(mol2)"
      ],
      "metadata": {
        "id": "VNR6HmbPNnpw"
      },
      "execution_count": 75,
      "outputs": []
    },
    {
      "cell_type": "code",
      "source": [
        "mol2_with_hydrogens"
      ],
      "metadata": {
        "colab": {
          "base_uri": "https://localhost:8080/",
          "height": 0
        },
        "id": "dsqnm4fSNz0s",
        "outputId": "8724a4ec-75df-489b-af2b-dfec5edb27d2"
      },
      "execution_count": 76,
      "outputs": [
        {
          "output_type": "execute_result",
          "data": {
            "text/plain": [
              "<rdkit.Chem.rdchem.Mol at 0x7f24b79c9710>"
            ],
            "text/html": [
              "<?xml version='1.0' encoding='iso-8859-1'?>\n",
              "<svg version='1.1' baseProfile='full'\n",
              "              xmlns='http://www.w3.org/2000/svg'\n",
              "                      xmlns:rdkit='http://www.rdkit.org/xml'\n",
              "                      xmlns:xlink='http://www.w3.org/1999/xlink'\n",
              "                  xml:space='preserve'\n",
              "width='300px' height='300px' viewBox='0 0 300 300'>\n",
              "<!-- END OF HEADER -->\n",
              "<rect style='opacity:1.0;fill:#FFFFFF;stroke:none' width='300.0' height='300.0' x='0.0' y='0.0'> </rect>\n",
              "<path class='bond-0 atom-0 atom-1' d='M 228.3,150.0 L 176.1,150.0' style='fill:none;fill-rule:evenodd;stroke:#000000;stroke-width:2.0px;stroke-linecap:butt;stroke-linejoin:miter;stroke-opacity:1' />\n",
              "<path class='bond-1 atom-1 atom-2' d='M 176.1,150.0 L 150.0,195.2' style='fill:none;fill-rule:evenodd;stroke:#000000;stroke-width:2.0px;stroke-linecap:butt;stroke-linejoin:miter;stroke-opacity:1' />\n",
              "<path class='bond-1 atom-1 atom-2' d='M 167.1,150.0 L 145.5,187.4' style='fill:none;fill-rule:evenodd;stroke:#000000;stroke-width:2.0px;stroke-linecap:butt;stroke-linejoin:miter;stroke-opacity:1' />\n",
              "<path class='bond-2 atom-2 atom-3' d='M 150.0,195.2 L 97.8,195.2' style='fill:none;fill-rule:evenodd;stroke:#000000;stroke-width:2.0px;stroke-linecap:butt;stroke-linejoin:miter;stroke-opacity:1' />\n",
              "<path class='bond-3 atom-3 atom-4' d='M 97.8,195.2 L 71.7,150.0' style='fill:none;fill-rule:evenodd;stroke:#000000;stroke-width:2.0px;stroke-linecap:butt;stroke-linejoin:miter;stroke-opacity:1' />\n",
              "<path class='bond-3 atom-3 atom-4' d='M 102.3,187.4 L 80.7,150.0' style='fill:none;fill-rule:evenodd;stroke:#000000;stroke-width:2.0px;stroke-linecap:butt;stroke-linejoin:miter;stroke-opacity:1' />\n",
              "<path class='bond-4 atom-4 atom-5' d='M 71.7,150.0 L 97.8,104.8' style='fill:none;fill-rule:evenodd;stroke:#000000;stroke-width:2.0px;stroke-linecap:butt;stroke-linejoin:miter;stroke-opacity:1' />\n",
              "<path class='bond-5 atom-5 atom-6' d='M 97.8,104.8 L 150.0,104.8' style='fill:none;fill-rule:evenodd;stroke:#000000;stroke-width:2.0px;stroke-linecap:butt;stroke-linejoin:miter;stroke-opacity:1' />\n",
              "<path class='bond-5 atom-5 atom-6' d='M 102.3,112.6 L 145.5,112.6' style='fill:none;fill-rule:evenodd;stroke:#000000;stroke-width:2.0px;stroke-linecap:butt;stroke-linejoin:miter;stroke-opacity:1' />\n",
              "<path class='bond-6 atom-6 atom-1' d='M 150.0,104.8 L 176.1,150.0' style='fill:none;fill-rule:evenodd;stroke:#000000;stroke-width:2.0px;stroke-linecap:butt;stroke-linejoin:miter;stroke-opacity:1' />\n",
              "<path class='bond-7 atom-0 atom-7' d='M 228.3,150.0 L 273.1,150.0' style='fill:none;fill-rule:evenodd;stroke:#000000;stroke-width:2.0px;stroke-linecap:butt;stroke-linejoin:miter;stroke-opacity:1' />\n",
              "<path class='bond-8 atom-0 atom-8' d='M 228.3,150.0 L 228.3,193.1' style='fill:none;fill-rule:evenodd;stroke:#000000;stroke-width:2.0px;stroke-linecap:butt;stroke-linejoin:miter;stroke-opacity:1' />\n",
              "<path class='bond-9 atom-0 atom-9' d='M 228.3,150.0 L 228.3,106.9' style='fill:none;fill-rule:evenodd;stroke:#000000;stroke-width:2.0px;stroke-linecap:butt;stroke-linejoin:miter;stroke-opacity:1' />\n",
              "<path class='bond-10 atom-2 atom-10' d='M 150.0,195.2 L 170.9,231.3' style='fill:none;fill-rule:evenodd;stroke:#000000;stroke-width:2.0px;stroke-linecap:butt;stroke-linejoin:miter;stroke-opacity:1' />\n",
              "<path class='bond-11 atom-3 atom-11' d='M 97.8,195.2 L 76.9,231.3' style='fill:none;fill-rule:evenodd;stroke:#000000;stroke-width:2.0px;stroke-linecap:butt;stroke-linejoin:miter;stroke-opacity:1' />\n",
              "<path class='bond-12 atom-4 atom-12' d='M 71.7,150.0 L 26.9,150.0' style='fill:none;fill-rule:evenodd;stroke:#000000;stroke-width:2.0px;stroke-linecap:butt;stroke-linejoin:miter;stroke-opacity:1' />\n",
              "<path class='bond-13 atom-5 atom-13' d='M 97.8,104.8 L 76.9,68.7' style='fill:none;fill-rule:evenodd;stroke:#000000;stroke-width:2.0px;stroke-linecap:butt;stroke-linejoin:miter;stroke-opacity:1' />\n",
              "<path class='bond-14 atom-6 atom-14' d='M 150.0,104.8 L 170.9,68.7' style='fill:none;fill-rule:evenodd;stroke:#000000;stroke-width:2.0px;stroke-linecap:butt;stroke-linejoin:miter;stroke-opacity:1' />\n",
              "<path class='atom-7' d='M 274.8 142.6\n",
              "L 276.8 142.6\n",
              "L 276.8 148.9\n",
              "L 284.4 148.9\n",
              "L 284.4 142.6\n",
              "L 286.4 142.6\n",
              "L 286.4 157.4\n",
              "L 284.4 157.4\n",
              "L 284.4 150.6\n",
              "L 276.8 150.6\n",
              "L 276.8 157.4\n",
              "L 274.8 157.4\n",
              "L 274.8 142.6\n",
              "' fill='#000000'/>\n",
              "<path class='atom-8' d='M 222.6 194.8\n",
              "L 224.6 194.8\n",
              "L 224.6 201.1\n",
              "L 232.1 201.1\n",
              "L 232.1 194.8\n",
              "L 234.1 194.8\n",
              "L 234.1 209.6\n",
              "L 232.1 209.6\n",
              "L 232.1 202.8\n",
              "L 224.6 202.8\n",
              "L 224.6 209.6\n",
              "L 222.6 209.6\n",
              "L 222.6 194.8\n",
              "' fill='#000000'/>\n",
              "<path class='atom-9' d='M 222.6 90.4\n",
              "L 224.6 90.4\n",
              "L 224.6 96.7\n",
              "L 232.1 96.7\n",
              "L 232.1 90.4\n",
              "L 234.1 90.4\n",
              "L 234.1 105.2\n",
              "L 232.1 105.2\n",
              "L 232.1 98.3\n",
              "L 224.6 98.3\n",
              "L 224.6 105.2\n",
              "L 222.6 105.2\n",
              "L 222.6 90.4\n",
              "' fill='#000000'/>\n",
              "<path class='atom-10' d='M 170.3 233.1\n",
              "L 172.3 233.1\n",
              "L 172.3 239.4\n",
              "L 179.9 239.4\n",
              "L 179.9 233.1\n",
              "L 181.9 233.1\n",
              "L 181.9 247.9\n",
              "L 179.9 247.9\n",
              "L 179.9 241.0\n",
              "L 172.3 241.0\n",
              "L 172.3 247.9\n",
              "L 170.3 247.9\n",
              "L 170.3 233.1\n",
              "' fill='#000000'/>\n",
              "<path class='atom-11' d='M 65.9 233.1\n",
              "L 67.9 233.1\n",
              "L 67.9 239.4\n",
              "L 75.4 239.4\n",
              "L 75.4 233.1\n",
              "L 77.4 233.1\n",
              "L 77.4 247.9\n",
              "L 75.4 247.9\n",
              "L 75.4 241.0\n",
              "L 67.9 241.0\n",
              "L 67.9 247.9\n",
              "L 65.9 247.9\n",
              "L 65.9 233.1\n",
              "' fill='#000000'/>\n",
              "<path class='atom-12' d='M 13.6 142.6\n",
              "L 15.6 142.6\n",
              "L 15.6 148.9\n",
              "L 23.2 148.9\n",
              "L 23.2 142.6\n",
              "L 25.2 142.6\n",
              "L 25.2 157.4\n",
              "L 23.2 157.4\n",
              "L 23.2 150.6\n",
              "L 15.6 150.6\n",
              "L 15.6 157.4\n",
              "L 13.6 157.4\n",
              "L 13.6 142.6\n",
              "' fill='#000000'/>\n",
              "<path class='atom-13' d='M 65.9 52.1\n",
              "L 67.9 52.1\n",
              "L 67.9 58.4\n",
              "L 75.4 58.4\n",
              "L 75.4 52.1\n",
              "L 77.4 52.1\n",
              "L 77.4 66.9\n",
              "L 75.4 66.9\n",
              "L 75.4 60.1\n",
              "L 67.9 60.1\n",
              "L 67.9 66.9\n",
              "L 65.9 66.9\n",
              "L 65.9 52.1\n",
              "' fill='#000000'/>\n",
              "<path class='atom-14' d='M 170.3 52.1\n",
              "L 172.3 52.1\n",
              "L 172.3 58.4\n",
              "L 179.9 58.4\n",
              "L 179.9 52.1\n",
              "L 181.9 52.1\n",
              "L 181.9 66.9\n",
              "L 179.9 66.9\n",
              "L 179.9 60.1\n",
              "L 172.3 60.1\n",
              "L 172.3 66.9\n",
              "L 170.3 66.9\n",
              "L 170.3 52.1\n",
              "' fill='#000000'/>\n",
              "</svg>\n"
            ],
            "image/svg+xml": "<?xml version='1.0' encoding='iso-8859-1'?>\n<svg version='1.1' baseProfile='full'\n              xmlns='http://www.w3.org/2000/svg'\n                      xmlns:rdkit='http://www.rdkit.org/xml'\n                      xmlns:xlink='http://www.w3.org/1999/xlink'\n                  xml:space='preserve'\nwidth='300px' height='300px' viewBox='0 0 300 300'>\n<!-- END OF HEADER -->\n<rect style='opacity:1.0;fill:#FFFFFF;stroke:none' width='300.0' height='300.0' x='0.0' y='0.0'> </rect>\n<path class='bond-0 atom-0 atom-1' d='M 228.3,150.0 L 176.1,150.0' style='fill:none;fill-rule:evenodd;stroke:#000000;stroke-width:2.0px;stroke-linecap:butt;stroke-linejoin:miter;stroke-opacity:1' />\n<path class='bond-1 atom-1 atom-2' d='M 176.1,150.0 L 150.0,195.2' style='fill:none;fill-rule:evenodd;stroke:#000000;stroke-width:2.0px;stroke-linecap:butt;stroke-linejoin:miter;stroke-opacity:1' />\n<path class='bond-1 atom-1 atom-2' d='M 167.1,150.0 L 145.5,187.4' style='fill:none;fill-rule:evenodd;stroke:#000000;stroke-width:2.0px;stroke-linecap:butt;stroke-linejoin:miter;stroke-opacity:1' />\n<path class='bond-2 atom-2 atom-3' d='M 150.0,195.2 L 97.8,195.2' style='fill:none;fill-rule:evenodd;stroke:#000000;stroke-width:2.0px;stroke-linecap:butt;stroke-linejoin:miter;stroke-opacity:1' />\n<path class='bond-3 atom-3 atom-4' d='M 97.8,195.2 L 71.7,150.0' style='fill:none;fill-rule:evenodd;stroke:#000000;stroke-width:2.0px;stroke-linecap:butt;stroke-linejoin:miter;stroke-opacity:1' />\n<path class='bond-3 atom-3 atom-4' d='M 102.3,187.4 L 80.7,150.0' style='fill:none;fill-rule:evenodd;stroke:#000000;stroke-width:2.0px;stroke-linecap:butt;stroke-linejoin:miter;stroke-opacity:1' />\n<path class='bond-4 atom-4 atom-5' d='M 71.7,150.0 L 97.8,104.8' style='fill:none;fill-rule:evenodd;stroke:#000000;stroke-width:2.0px;stroke-linecap:butt;stroke-linejoin:miter;stroke-opacity:1' />\n<path class='bond-5 atom-5 atom-6' d='M 97.8,104.8 L 150.0,104.8' style='fill:none;fill-rule:evenodd;stroke:#000000;stroke-width:2.0px;stroke-linecap:butt;stroke-linejoin:miter;stroke-opacity:1' />\n<path class='bond-5 atom-5 atom-6' d='M 102.3,112.6 L 145.5,112.6' style='fill:none;fill-rule:evenodd;stroke:#000000;stroke-width:2.0px;stroke-linecap:butt;stroke-linejoin:miter;stroke-opacity:1' />\n<path class='bond-6 atom-6 atom-1' d='M 150.0,104.8 L 176.1,150.0' style='fill:none;fill-rule:evenodd;stroke:#000000;stroke-width:2.0px;stroke-linecap:butt;stroke-linejoin:miter;stroke-opacity:1' />\n<path class='bond-7 atom-0 atom-7' d='M 228.3,150.0 L 273.1,150.0' style='fill:none;fill-rule:evenodd;stroke:#000000;stroke-width:2.0px;stroke-linecap:butt;stroke-linejoin:miter;stroke-opacity:1' />\n<path class='bond-8 atom-0 atom-8' d='M 228.3,150.0 L 228.3,193.1' style='fill:none;fill-rule:evenodd;stroke:#000000;stroke-width:2.0px;stroke-linecap:butt;stroke-linejoin:miter;stroke-opacity:1' />\n<path class='bond-9 atom-0 atom-9' d='M 228.3,150.0 L 228.3,106.9' style='fill:none;fill-rule:evenodd;stroke:#000000;stroke-width:2.0px;stroke-linecap:butt;stroke-linejoin:miter;stroke-opacity:1' />\n<path class='bond-10 atom-2 atom-10' d='M 150.0,195.2 L 170.9,231.3' style='fill:none;fill-rule:evenodd;stroke:#000000;stroke-width:2.0px;stroke-linecap:butt;stroke-linejoin:miter;stroke-opacity:1' />\n<path class='bond-11 atom-3 atom-11' d='M 97.8,195.2 L 76.9,231.3' style='fill:none;fill-rule:evenodd;stroke:#000000;stroke-width:2.0px;stroke-linecap:butt;stroke-linejoin:miter;stroke-opacity:1' />\n<path class='bond-12 atom-4 atom-12' d='M 71.7,150.0 L 26.9,150.0' style='fill:none;fill-rule:evenodd;stroke:#000000;stroke-width:2.0px;stroke-linecap:butt;stroke-linejoin:miter;stroke-opacity:1' />\n<path class='bond-13 atom-5 atom-13' d='M 97.8,104.8 L 76.9,68.7' style='fill:none;fill-rule:evenodd;stroke:#000000;stroke-width:2.0px;stroke-linecap:butt;stroke-linejoin:miter;stroke-opacity:1' />\n<path class='bond-14 atom-6 atom-14' d='M 150.0,104.8 L 170.9,68.7' style='fill:none;fill-rule:evenodd;stroke:#000000;stroke-width:2.0px;stroke-linecap:butt;stroke-linejoin:miter;stroke-opacity:1' />\n<path class='atom-7' d='M 274.8 142.6\nL 276.8 142.6\nL 276.8 148.9\nL 284.4 148.9\nL 284.4 142.6\nL 286.4 142.6\nL 286.4 157.4\nL 284.4 157.4\nL 284.4 150.6\nL 276.8 150.6\nL 276.8 157.4\nL 274.8 157.4\nL 274.8 142.6\n' fill='#000000'/>\n<path class='atom-8' d='M 222.6 194.8\nL 224.6 194.8\nL 224.6 201.1\nL 232.1 201.1\nL 232.1 194.8\nL 234.1 194.8\nL 234.1 209.6\nL 232.1 209.6\nL 232.1 202.8\nL 224.6 202.8\nL 224.6 209.6\nL 222.6 209.6\nL 222.6 194.8\n' fill='#000000'/>\n<path class='atom-9' d='M 222.6 90.4\nL 224.6 90.4\nL 224.6 96.7\nL 232.1 96.7\nL 232.1 90.4\nL 234.1 90.4\nL 234.1 105.2\nL 232.1 105.2\nL 232.1 98.3\nL 224.6 98.3\nL 224.6 105.2\nL 222.6 105.2\nL 222.6 90.4\n' fill='#000000'/>\n<path class='atom-10' d='M 170.3 233.1\nL 172.3 233.1\nL 172.3 239.4\nL 179.9 239.4\nL 179.9 233.1\nL 181.9 233.1\nL 181.9 247.9\nL 179.9 247.9\nL 179.9 241.0\nL 172.3 241.0\nL 172.3 247.9\nL 170.3 247.9\nL 170.3 233.1\n' fill='#000000'/>\n<path class='atom-11' d='M 65.9 233.1\nL 67.9 233.1\nL 67.9 239.4\nL 75.4 239.4\nL 75.4 233.1\nL 77.4 233.1\nL 77.4 247.9\nL 75.4 247.9\nL 75.4 241.0\nL 67.9 241.0\nL 67.9 247.9\nL 65.9 247.9\nL 65.9 233.1\n' fill='#000000'/>\n<path class='atom-12' d='M 13.6 142.6\nL 15.6 142.6\nL 15.6 148.9\nL 23.2 148.9\nL 23.2 142.6\nL 25.2 142.6\nL 25.2 157.4\nL 23.2 157.4\nL 23.2 150.6\nL 15.6 150.6\nL 15.6 157.4\nL 13.6 157.4\nL 13.6 142.6\n' fill='#000000'/>\n<path class='atom-13' d='M 65.9 52.1\nL 67.9 52.1\nL 67.9 58.4\nL 75.4 58.4\nL 75.4 52.1\nL 77.4 52.1\nL 77.4 66.9\nL 75.4 66.9\nL 75.4 60.1\nL 67.9 60.1\nL 67.9 66.9\nL 65.9 66.9\nL 65.9 52.1\n' fill='#000000'/>\n<path class='atom-14' d='M 170.3 52.1\nL 172.3 52.1\nL 172.3 58.4\nL 179.9 58.4\nL 179.9 52.1\nL 181.9 52.1\nL 181.9 66.9\nL 179.9 66.9\nL 179.9 60.1\nL 172.3 60.1\nL 172.3 66.9\nL 170.3 66.9\nL 170.3 52.1\n' fill='#000000'/>\n</svg>\n",
            "image/png": "[encoded data removed]"
          },
          "metadata": {},
          "execution_count": 76
        }
      ]
    },
    {
      "cell_type": "code",
      "source": [
        "from rdkit.Chem import AllChem\n",
        "AllChem.Compute2DCoords(mol2_with_hydrogens)\n",
        "mol2_with_hydrogens"
      ],
      "metadata": {
        "colab": {
          "base_uri": "https://localhost:8080/",
          "height": 0
        },
        "id": "jKnHQXqcN2vU",
        "outputId": "4c5b3ad4-5acf-48ae-d2ec-1dfdc793becb"
      },
      "execution_count": 78,
      "outputs": [
        {
          "output_type": "execute_result",
          "data": {
            "text/plain": [
              "<rdkit.Chem.rdchem.Mol at 0x7f24b79c9710>"
            ],
            "text/html": [
              "<?xml version='1.0' encoding='iso-8859-1'?>\n",
              "<svg version='1.1' baseProfile='full'\n",
              "              xmlns='http://www.w3.org/2000/svg'\n",
              "                      xmlns:rdkit='http://www.rdkit.org/xml'\n",
              "                      xmlns:xlink='http://www.w3.org/1999/xlink'\n",
              "                  xml:space='preserve'\n",
              "width='300px' height='300px' viewBox='0 0 300 300'>\n",
              "<!-- END OF HEADER -->\n",
              "<rect style='opacity:1.0;fill:#FFFFFF;stroke:none' width='300.0' height='300.0' x='0.0' y='0.0'> </rect>\n",
              "<path class='bond-0 atom-0 atom-1' d='M 228.3,150.0 L 176.1,150.0' style='fill:none;fill-rule:evenodd;stroke:#000000;stroke-width:2.0px;stroke-linecap:butt;stroke-linejoin:miter;stroke-opacity:1' />\n",
              "<path class='bond-1 atom-1 atom-2' d='M 176.1,150.0 L 150.0,195.2' style='fill:none;fill-rule:evenodd;stroke:#000000;stroke-width:2.0px;stroke-linecap:butt;stroke-linejoin:miter;stroke-opacity:1' />\n",
              "<path class='bond-1 atom-1 atom-2' d='M 167.1,150.0 L 145.5,187.4' style='fill:none;fill-rule:evenodd;stroke:#000000;stroke-width:2.0px;stroke-linecap:butt;stroke-linejoin:miter;stroke-opacity:1' />\n",
              "<path class='bond-2 atom-2 atom-3' d='M 150.0,195.2 L 97.8,195.2' style='fill:none;fill-rule:evenodd;stroke:#000000;stroke-width:2.0px;stroke-linecap:butt;stroke-linejoin:miter;stroke-opacity:1' />\n",
              "<path class='bond-3 atom-3 atom-4' d='M 97.8,195.2 L 71.7,150.0' style='fill:none;fill-rule:evenodd;stroke:#000000;stroke-width:2.0px;stroke-linecap:butt;stroke-linejoin:miter;stroke-opacity:1' />\n",
              "<path class='bond-3 atom-3 atom-4' d='M 102.3,187.4 L 80.7,150.0' style='fill:none;fill-rule:evenodd;stroke:#000000;stroke-width:2.0px;stroke-linecap:butt;stroke-linejoin:miter;stroke-opacity:1' />\n",
              "<path class='bond-4 atom-4 atom-5' d='M 71.7,150.0 L 97.8,104.8' style='fill:none;fill-rule:evenodd;stroke:#000000;stroke-width:2.0px;stroke-linecap:butt;stroke-linejoin:miter;stroke-opacity:1' />\n",
              "<path class='bond-5 atom-5 atom-6' d='M 97.8,104.8 L 150.0,104.8' style='fill:none;fill-rule:evenodd;stroke:#000000;stroke-width:2.0px;stroke-linecap:butt;stroke-linejoin:miter;stroke-opacity:1' />\n",
              "<path class='bond-5 atom-5 atom-6' d='M 102.3,112.6 L 145.5,112.6' style='fill:none;fill-rule:evenodd;stroke:#000000;stroke-width:2.0px;stroke-linecap:butt;stroke-linejoin:miter;stroke-opacity:1' />\n",
              "<path class='bond-6 atom-6 atom-1' d='M 150.0,104.8 L 176.1,150.0' style='fill:none;fill-rule:evenodd;stroke:#000000;stroke-width:2.0px;stroke-linecap:butt;stroke-linejoin:miter;stroke-opacity:1' />\n",
              "<path class='bond-7 atom-0 atom-7' d='M 228.3,150.0 L 273.1,150.0' style='fill:none;fill-rule:evenodd;stroke:#000000;stroke-width:2.0px;stroke-linecap:butt;stroke-linejoin:miter;stroke-opacity:1' />\n",
              "<path class='bond-8 atom-0 atom-8' d='M 228.3,150.0 L 228.3,193.1' style='fill:none;fill-rule:evenodd;stroke:#000000;stroke-width:2.0px;stroke-linecap:butt;stroke-linejoin:miter;stroke-opacity:1' />\n",
              "<path class='bond-9 atom-0 atom-9' d='M 228.3,150.0 L 228.3,106.9' style='fill:none;fill-rule:evenodd;stroke:#000000;stroke-width:2.0px;stroke-linecap:butt;stroke-linejoin:miter;stroke-opacity:1' />\n",
              "<path class='bond-10 atom-2 atom-10' d='M 150.0,195.2 L 170.9,231.3' style='fill:none;fill-rule:evenodd;stroke:#000000;stroke-width:2.0px;stroke-linecap:butt;stroke-linejoin:miter;stroke-opacity:1' />\n",
              "<path class='bond-11 atom-3 atom-11' d='M 97.8,195.2 L 76.9,231.3' style='fill:none;fill-rule:evenodd;stroke:#000000;stroke-width:2.0px;stroke-linecap:butt;stroke-linejoin:miter;stroke-opacity:1' />\n",
              "<path class='bond-12 atom-4 atom-12' d='M 71.7,150.0 L 26.9,150.0' style='fill:none;fill-rule:evenodd;stroke:#000000;stroke-width:2.0px;stroke-linecap:butt;stroke-linejoin:miter;stroke-opacity:1' />\n",
              "<path class='bond-13 atom-5 atom-13' d='M 97.8,104.8 L 76.9,68.7' style='fill:none;fill-rule:evenodd;stroke:#000000;stroke-width:2.0px;stroke-linecap:butt;stroke-linejoin:miter;stroke-opacity:1' />\n",
              "<path class='bond-14 atom-6 atom-14' d='M 150.0,104.8 L 170.9,68.7' style='fill:none;fill-rule:evenodd;stroke:#000000;stroke-width:2.0px;stroke-linecap:butt;stroke-linejoin:miter;stroke-opacity:1' />\n",
              "<path class='atom-7' d='M 274.8 142.6\n",
              "L 276.8 142.6\n",
              "L 276.8 148.9\n",
              "L 284.4 148.9\n",
              "L 284.4 142.6\n",
              "L 286.4 142.6\n",
              "L 286.4 157.4\n",
              "L 284.4 157.4\n",
              "L 284.4 150.6\n",
              "L 276.8 150.6\n",
              "L 276.8 157.4\n",
              "L 274.8 157.4\n",
              "L 274.8 142.6\n",
              "' fill='#000000'/>\n",
              "<path class='atom-8' d='M 222.6 194.8\n",
              "L 224.6 194.8\n",
              "L 224.6 201.1\n",
              "L 232.1 201.1\n",
              "L 232.1 194.8\n",
              "L 234.1 194.8\n",
              "L 234.1 209.6\n",
              "L 232.1 209.6\n",
              "L 232.1 202.8\n",
              "L 224.6 202.8\n",
              "L 224.6 209.6\n",
              "L 222.6 209.6\n",
              "L 222.6 194.8\n",
              "' fill='#000000'/>\n",
              "<path class='atom-9' d='M 222.6 90.4\n",
              "L 224.6 90.4\n",
              "L 224.6 96.7\n",
              "L 232.1 96.7\n",
              "L 232.1 90.4\n",
              "L 234.1 90.4\n",
              "L 234.1 105.2\n",
              "L 232.1 105.2\n",
              "L 232.1 98.3\n",
              "L 224.6 98.3\n",
              "L 224.6 105.2\n",
              "L 222.6 105.2\n",
              "L 222.6 90.4\n",
              "' fill='#000000'/>\n",
              "<path class='atom-10' d='M 170.3 233.1\n",
              "L 172.3 233.1\n",
              "L 172.3 239.4\n",
              "L 179.9 239.4\n",
              "L 179.9 233.1\n",
              "L 181.9 233.1\n",
              "L 181.9 247.9\n",
              "L 179.9 247.9\n",
              "L 179.9 241.0\n",
              "L 172.3 241.0\n",
              "L 172.3 247.9\n",
              "L 170.3 247.9\n",
              "L 170.3 233.1\n",
              "' fill='#000000'/>\n",
              "<path class='atom-11' d='M 65.9 233.1\n",
              "L 67.9 233.1\n",
              "L 67.9 239.4\n",
              "L 75.4 239.4\n",
              "L 75.4 233.1\n",
              "L 77.4 233.1\n",
              "L 77.4 247.9\n",
              "L 75.4 247.9\n",
              "L 75.4 241.0\n",
              "L 67.9 241.0\n",
              "L 67.9 247.9\n",
              "L 65.9 247.9\n",
              "L 65.9 233.1\n",
              "' fill='#000000'/>\n",
              "<path class='atom-12' d='M 13.6 142.6\n",
              "L 15.6 142.6\n",
              "L 15.6 148.9\n",
              "L 23.2 148.9\n",
              "L 23.2 142.6\n",
              "L 25.2 142.6\n",
              "L 25.2 157.4\n",
              "L 23.2 157.4\n",
              "L 23.2 150.6\n",
              "L 15.6 150.6\n",
              "L 15.6 157.4\n",
              "L 13.6 157.4\n",
              "L 13.6 142.6\n",
              "' fill='#000000'/>\n",
              "<path class='atom-13' d='M 65.9 52.1\n",
              "L 67.9 52.1\n",
              "L 67.9 58.4\n",
              "L 75.4 58.4\n",
              "L 75.4 52.1\n",
              "L 77.4 52.1\n",
              "L 77.4 66.9\n",
              "L 75.4 66.9\n",
              "L 75.4 60.1\n",
              "L 67.9 60.1\n",
              "L 67.9 66.9\n",
              "L 65.9 66.9\n",
              "L 65.9 52.1\n",
              "' fill='#000000'/>\n",
              "<path class='atom-14' d='M 170.3 52.1\n",
              "L 172.3 52.1\n",
              "L 172.3 58.4\n",
              "L 179.9 58.4\n",
              "L 179.9 52.1\n",
              "L 181.9 52.1\n",
              "L 181.9 66.9\n",
              "L 179.9 66.9\n",
              "L 179.9 60.1\n",
              "L 172.3 60.1\n",
              "L 172.3 66.9\n",
              "L 170.3 66.9\n",
              "L 170.3 52.1\n",
              "' fill='#000000'/>\n",
              "</svg>\n"
            ],
            "image/svg+xml": "<?xml version='1.0' encoding='iso-8859-1'?>\n<svg version='1.1' baseProfile='full'\n              xmlns='http://www.w3.org/2000/svg'\n                      xmlns:rdkit='http://www.rdkit.org/xml'\n                      xmlns:xlink='http://www.w3.org/1999/xlink'\n                  xml:space='preserve'\nwidth='300px' height='300px' viewBox='0 0 300 300'>\n<!-- END OF HEADER -->\n<rect style='opacity:1.0;fill:#FFFFFF;stroke:none' width='300.0' height='300.0' x='0.0' y='0.0'> </rect>\n<path class='bond-0 atom-0 atom-1' d='M 228.3,150.0 L 176.1,150.0' style='fill:none;fill-rule:evenodd;stroke:#000000;stroke-width:2.0px;stroke-linecap:butt;stroke-linejoin:miter;stroke-opacity:1' />\n<path class='bond-1 atom-1 atom-2' d='M 176.1,150.0 L 150.0,195.2' style='fill:none;fill-rule:evenodd;stroke:#000000;stroke-width:2.0px;stroke-linecap:butt;stroke-linejoin:miter;stroke-opacity:1' />\n<path class='bond-1 atom-1 atom-2' d='M 167.1,150.0 L 145.5,187.4' style='fill:none;fill-rule:evenodd;stroke:#000000;stroke-width:2.0px;stroke-linecap:butt;stroke-linejoin:miter;stroke-opacity:1' />\n<path class='bond-2 atom-2 atom-3' d='M 150.0,195.2 L 97.8,195.2' style='fill:none;fill-rule:evenodd;stroke:#000000;stroke-width:2.0px;stroke-linecap:butt;stroke-linejoin:miter;stroke-opacity:1' />\n<path class='bond-3 atom-3 atom-4' d='M 97.8,195.2 L 71.7,150.0' style='fill:none;fill-rule:evenodd;stroke:#000000;stroke-width:2.0px;stroke-linecap:butt;stroke-linejoin:miter;stroke-opacity:1' />\n<path class='bond-3 atom-3 atom-4' d='M 102.3,187.4 L 80.7,150.0' style='fill:none;fill-rule:evenodd;stroke:#000000;stroke-width:2.0px;stroke-linecap:butt;stroke-linejoin:miter;stroke-opacity:1' />\n<path class='bond-4 atom-4 atom-5' d='M 71.7,150.0 L 97.8,104.8' style='fill:none;fill-rule:evenodd;stroke:#000000;stroke-width:2.0px;stroke-linecap:butt;stroke-linejoin:miter;stroke-opacity:1' />\n<path class='bond-5 atom-5 atom-6' d='M 97.8,104.8 L 150.0,104.8' style='fill:none;fill-rule:evenodd;stroke:#000000;stroke-width:2.0px;stroke-linecap:butt;stroke-linejoin:miter;stroke-opacity:1' />\n<path class='bond-5 atom-5 atom-6' d='M 102.3,112.6 L 145.5,112.6' style='fill:none;fill-rule:evenodd;stroke:#000000;stroke-width:2.0px;stroke-linecap:butt;stroke-linejoin:miter;stroke-opacity:1' />\n<path class='bond-6 atom-6 atom-1' d='M 150.0,104.8 L 176.1,150.0' style='fill:none;fill-rule:evenodd;stroke:#000000;stroke-width:2.0px;stroke-linecap:butt;stroke-linejoin:miter;stroke-opacity:1' />\n<path class='bond-7 atom-0 atom-7' d='M 228.3,150.0 L 273.1,150.0' style='fill:none;fill-rule:evenodd;stroke:#000000;stroke-width:2.0px;stroke-linecap:butt;stroke-linejoin:miter;stroke-opacity:1' />\n<path class='bond-8 atom-0 atom-8' d='M 228.3,150.0 L 228.3,193.1' style='fill:none;fill-rule:evenodd;stroke:#000000;stroke-width:2.0px;stroke-linecap:butt;stroke-linejoin:miter;stroke-opacity:1' />\n<path class='bond-9 atom-0 atom-9' d='M 228.3,150.0 L 228.3,106.9' style='fill:none;fill-rule:evenodd;stroke:#000000;stroke-width:2.0px;stroke-linecap:butt;stroke-linejoin:miter;stroke-opacity:1' />\n<path class='bond-10 atom-2 atom-10' d='M 150.0,195.2 L 170.9,231.3' style='fill:none;fill-rule:evenodd;stroke:#000000;stroke-width:2.0px;stroke-linecap:butt;stroke-linejoin:miter;stroke-opacity:1' />\n<path class='bond-11 atom-3 atom-11' d='M 97.8,195.2 L 76.9,231.3' style='fill:none;fill-rule:evenodd;stroke:#000000;stroke-width:2.0px;stroke-linecap:butt;stroke-linejoin:miter;stroke-opacity:1' />\n<path class='bond-12 atom-4 atom-12' d='M 71.7,150.0 L 26.9,150.0' style='fill:none;fill-rule:evenodd;stroke:#000000;stroke-width:2.0px;stroke-linecap:butt;stroke-linejoin:miter;stroke-opacity:1' />\n<path class='bond-13 atom-5 atom-13' d='M 97.8,104.8 L 76.9,68.7' style='fill:none;fill-rule:evenodd;stroke:#000000;stroke-width:2.0px;stroke-linecap:butt;stroke-linejoin:miter;stroke-opacity:1' />\n<path class='bond-14 atom-6 atom-14' d='M 150.0,104.8 L 170.9,68.7' style='fill:none;fill-rule:evenodd;stroke:#000000;stroke-width:2.0px;stroke-linecap:butt;stroke-linejoin:miter;stroke-opacity:1' />\n<path class='atom-7' d='M 274.8 142.6\nL 276.8 142.6\nL 276.8 148.9\nL 284.4 148.9\nL 284.4 142.6\nL 286.4 142.6\nL 286.4 157.4\nL 284.4 157.4\nL 284.4 150.6\nL 276.8 150.6\nL 276.8 157.4\nL 274.8 157.4\nL 274.8 142.6\n' fill='#000000'/>\n<path class='atom-8' d='M 222.6 194.8\nL 224.6 194.8\nL 224.6 201.1\nL 232.1 201.1\nL 232.1 194.8\nL 234.1 194.8\nL 234.1 209.6\nL 232.1 209.6\nL 232.1 202.8\nL 224.6 202.8\nL 224.6 209.6\nL 222.6 209.6\nL 222.6 194.8\n' fill='#000000'/>\n<path class='atom-9' d='M 222.6 90.4\nL 224.6 90.4\nL 224.6 96.7\nL 232.1 96.7\nL 232.1 90.4\nL 234.1 90.4\nL 234.1 105.2\nL 232.1 105.2\nL 232.1 98.3\nL 224.6 98.3\nL 224.6 105.2\nL 222.6 105.2\nL 222.6 90.4\n' fill='#000000'/>\n<path class='atom-10' d='M 170.3 233.1\nL 172.3 233.1\nL 172.3 239.4\nL 179.9 239.4\nL 179.9 233.1\nL 181.9 233.1\nL 181.9 247.9\nL 179.9 247.9\nL 179.9 241.0\nL 172.3 241.0\nL 172.3 247.9\nL 170.3 247.9\nL 170.3 233.1\n' fill='#000000'/>\n<path class='atom-11' d='M 65.9 233.1\nL 67.9 233.1\nL 67.9 239.4\nL 75.4 239.4\nL 75.4 233.1\nL 77.4 233.1\nL 77.4 247.9\nL 75.4 247.9\nL 75.4 241.0\nL 67.9 241.0\nL 67.9 247.9\nL 65.9 247.9\nL 65.9 233.1\n' fill='#000000'/>\n<path class='atom-12' d='M 13.6 142.6\nL 15.6 142.6\nL 15.6 148.9\nL 23.2 148.9\nL 23.2 142.6\nL 25.2 142.6\nL 25.2 157.4\nL 23.2 157.4\nL 23.2 150.6\nL 15.6 150.6\nL 15.6 157.4\nL 13.6 157.4\nL 13.6 142.6\n' fill='#000000'/>\n<path class='atom-13' d='M 65.9 52.1\nL 67.9 52.1\nL 67.9 58.4\nL 75.4 58.4\nL 75.4 52.1\nL 77.4 52.1\nL 77.4 66.9\nL 75.4 66.9\nL 75.4 60.1\nL 67.9 60.1\nL 67.9 66.9\nL 65.9 66.9\nL 65.9 52.1\n' fill='#000000'/>\n<path class='atom-14' d='M 170.3 52.1\nL 172.3 52.1\nL 172.3 58.4\nL 179.9 58.4\nL 179.9 52.1\nL 181.9 52.1\nL 181.9 66.9\nL 179.9 66.9\nL 179.9 60.1\nL 172.3 60.1\nL 172.3 66.9\nL 170.3 66.9\nL 170.3 52.1\n' fill='#000000'/>\n</svg>\n",
            "image/png": "[encoded data removed]"
          },
          "metadata": {},
          "execution_count": 78
        }
      ]
    },
    {
      "cell_type": "code",
      "source": [
        "# descriptors are functions assigning numerical values to molecules\n",
        "# example of a descriptor: compute number of atoms of a molecule, but more advanced descriptors exist as well\n",
        "# example of use case for descriptors: can test all descriptors from Lipinski's Rule of Five\n",
        "\n",
        "from rdkit.Chem import Descriptors\n",
        "Descriptors.MolWt(mol2) #compues total molecular weight of all atoms in mol2"
      ],
      "metadata": {
        "colab": {
          "base_uri": "https://localhost:8080/"
        },
        "id": "n7fxaIv6OQv0",
        "outputId": "5f6d3955-2b6f-443b-d53f-577c4edcfeaa"
      },
      "execution_count": 79,
      "outputs": [
        {
          "output_type": "execute_result",
          "data": {
            "text/plain": [
              "92.14099999999999"
            ]
          },
          "metadata": {},
          "execution_count": 79
        }
      ]
    },
    {
      "cell_type": "code",
      "source": [
        "Descriptors.MolLogP(mol2) \n",
        "#not as reliable as MolWt because we can't measure this in a lab, it's predicted by an algorithm"
      ],
      "metadata": {
        "colab": {
          "base_uri": "https://localhost:8080/"
        },
        "id": "cu1ng3XEO-cf",
        "outputId": "44e84052-ac7f-45b0-a818-ced27324ac01"
      },
      "execution_count": 80,
      "outputs": [
        {
          "output_type": "execute_result",
          "data": {
            "text/plain": [
              "1.99502"
            ]
          },
          "metadata": {},
          "execution_count": 80
        }
      ]
    },
    {
      "cell_type": "code",
      "source": [
        "Descriptors.NumRotatableBonds(mol2)"
      ],
      "metadata": {
        "colab": {
          "base_uri": "https://localhost:8080/"
        },
        "id": "TD6-wWCiPLKS",
        "outputId": "75a33e01-d883-46a1-8a58-a134e9ec07b7"
      },
      "execution_count": 81,
      "outputs": [
        {
          "output_type": "execute_result",
          "data": {
            "text/plain": [
              "0"
            ]
          },
          "metadata": {},
          "execution_count": 81
        }
      ]
    }
  ]
}